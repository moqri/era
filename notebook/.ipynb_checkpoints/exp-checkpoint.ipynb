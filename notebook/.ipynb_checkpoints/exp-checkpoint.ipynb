{
 "cells": [
  {
   "cell_type": "code",
   "execution_count": 2,
   "metadata": {},
   "outputs": [],
   "source": [
    "import pandas as pd\n",
    "import numpy as np\n",
    "import matplotlib.pyplot as plt\n",
    "#import plotly.express as px\n",
    "import seaborn as sns"
   ]
  },
  {
   "cell_type": "code",
   "execution_count": 5,
   "metadata": {},
   "outputs": [],
   "source": [
    "data='../../rna/'"
   ]
  },
  {
   "cell_type": "code",
   "execution_count": 6,
   "metadata": {},
   "outputs": [
    {
     "data": {
      "text/html": [
       "<div>\n",
       "<style scoped>\n",
       "    .dataframe tbody tr th:only-of-type {\n",
       "        vertical-align: middle;\n",
       "    }\n",
       "\n",
       "    .dataframe tbody tr th {\n",
       "        vertical-align: top;\n",
       "    }\n",
       "\n",
       "    .dataframe thead th {\n",
       "        text-align: right;\n",
       "    }\n",
       "</style>\n",
       "<table border=\"1\" class=\"dataframe\">\n",
       "  <thead>\n",
       "    <tr style=\"text-align: right;\">\n",
       "      <th></th>\n",
       "      <th>SRR10836665</th>\n",
       "      <th>SRR10836673</th>\n",
       "      <th>SRR10836664</th>\n",
       "      <th>SRR10836670</th>\n",
       "      <th>SRR10836671</th>\n",
       "      <th>SRR10836672</th>\n",
       "      <th>SRR10836667</th>\n",
       "      <th>SRR10836668</th>\n",
       "      <th>SRR10836669</th>\n",
       "    </tr>\n",
       "    <tr>\n",
       "      <th>Name</th>\n",
       "      <th></th>\n",
       "      <th></th>\n",
       "      <th></th>\n",
       "      <th></th>\n",
       "      <th></th>\n",
       "      <th></th>\n",
       "      <th></th>\n",
       "      <th></th>\n",
       "      <th></th>\n",
       "    </tr>\n",
       "  </thead>\n",
       "  <tbody>\n",
       "    <tr>\n",
       "      <td>ENST00000631435.1</td>\n",
       "      <td>0.0</td>\n",
       "      <td>0.0</td>\n",
       "      <td>0.0</td>\n",
       "      <td>0.0</td>\n",
       "      <td>0.0</td>\n",
       "      <td>0.0</td>\n",
       "      <td>0.0</td>\n",
       "      <td>0.0</td>\n",
       "      <td>0.0</td>\n",
       "    </tr>\n",
       "    <tr>\n",
       "      <td>ENST00000415118.1</td>\n",
       "      <td>0.0</td>\n",
       "      <td>0.0</td>\n",
       "      <td>0.0</td>\n",
       "      <td>0.0</td>\n",
       "      <td>0.0</td>\n",
       "      <td>0.0</td>\n",
       "      <td>0.0</td>\n",
       "      <td>0.0</td>\n",
       "      <td>0.0</td>\n",
       "    </tr>\n",
       "    <tr>\n",
       "      <td>ENST00000448914.1</td>\n",
       "      <td>0.0</td>\n",
       "      <td>0.0</td>\n",
       "      <td>0.0</td>\n",
       "      <td>0.0</td>\n",
       "      <td>0.0</td>\n",
       "      <td>0.0</td>\n",
       "      <td>0.0</td>\n",
       "      <td>0.0</td>\n",
       "      <td>0.0</td>\n",
       "    </tr>\n",
       "    <tr>\n",
       "      <td>ENST00000434970.2</td>\n",
       "      <td>0.0</td>\n",
       "      <td>0.0</td>\n",
       "      <td>0.0</td>\n",
       "      <td>0.0</td>\n",
       "      <td>0.0</td>\n",
       "      <td>0.0</td>\n",
       "      <td>0.0</td>\n",
       "      <td>0.0</td>\n",
       "      <td>0.0</td>\n",
       "    </tr>\n",
       "    <tr>\n",
       "      <td>ENST00000439842.1</td>\n",
       "      <td>0.0</td>\n",
       "      <td>0.0</td>\n",
       "      <td>0.0</td>\n",
       "      <td>0.0</td>\n",
       "      <td>0.0</td>\n",
       "      <td>0.0</td>\n",
       "      <td>0.0</td>\n",
       "      <td>0.0</td>\n",
       "      <td>0.0</td>\n",
       "    </tr>\n",
       "  </tbody>\n",
       "</table>\n",
       "</div>"
      ],
      "text/plain": [
       "                   SRR10836665  SRR10836673  SRR10836664  SRR10836670  \\\n",
       "Name                                                                    \n",
       "ENST00000631435.1          0.0          0.0          0.0          0.0   \n",
       "ENST00000415118.1          0.0          0.0          0.0          0.0   \n",
       "ENST00000448914.1          0.0          0.0          0.0          0.0   \n",
       "ENST00000434970.2          0.0          0.0          0.0          0.0   \n",
       "ENST00000439842.1          0.0          0.0          0.0          0.0   \n",
       "\n",
       "                   SRR10836671  SRR10836672  SRR10836667  SRR10836668  \\\n",
       "Name                                                                    \n",
       "ENST00000631435.1          0.0          0.0          0.0          0.0   \n",
       "ENST00000415118.1          0.0          0.0          0.0          0.0   \n",
       "ENST00000448914.1          0.0          0.0          0.0          0.0   \n",
       "ENST00000434970.2          0.0          0.0          0.0          0.0   \n",
       "ENST00000439842.1          0.0          0.0          0.0          0.0   \n",
       "\n",
       "                   SRR10836669  \n",
       "Name                            \n",
       "ENST00000631435.1          0.0  \n",
       "ENST00000415118.1          0.0  \n",
       "ENST00000448914.1          0.0  \n",
       "ENST00000434970.2          0.0  \n",
       "ENST00000439842.1          0.0  "
      ]
     },
     "execution_count": 6,
     "metadata": {},
     "output_type": "execute_result"
    }
   ],
   "source": [
    "a=['SRR10836665','SRR10836673','SRR10836664']\n",
    "t=['SRR10836670','SRR10836671','SRR10836672']\n",
    "y=['SRR10836667','SRR10836668','SRR10836669']\n",
    "for s in a+t+y:\n",
    "    if s=='SRR10836665':\n",
    "        df=pd.read_csv(data+'srrf/'+s+'/quant.sf',sep='\\t',index_col=0)[['TPM']]\n",
    "        df.columns=[s]\n",
    "    else:\n",
    "        d=pd.read_csv(data+'srrf/'+s+'/quant.sf',sep='\\t',index_col=0)[['TPM']]\n",
    "        d.columns=[s]\n",
    "        df=df.merge(d,left_index=True,right_index=True)\n",
    "df=df[a+t+y]\n",
    "df.head()"
   ]
  },
  {
   "cell_type": "code",
   "execution_count": 7,
   "metadata": {},
   "outputs": [
    {
     "data": {
      "text/plain": [
       "SRR10836665        0.000000\n",
       "SRR10836673        0.000000\n",
       "SRR10836664        0.000000\n",
       "SRR10836670    13524.799392\n",
       "SRR10836671     3397.313454\n",
       "SRR10836672     6497.112164\n",
       "SRR10836667        0.000000\n",
       "SRR10836668        0.000000\n",
       "SRR10836669        0.000000\n",
       "Name: ENST00000541267.5, dtype: float64"
      ]
     },
     "execution_count": 7,
     "metadata": {},
     "output_type": "execute_result"
    }
   ],
   "source": [
    "df.loc['ENST00000541267.5']"
   ]
  },
  {
   "cell_type": "code",
   "execution_count": 4,
   "metadata": {},
   "outputs": [],
   "source": [
    "df['a']=df[a].mean(1)\n",
    "df['t']=df[t].mean(1)\n",
    "df['y']=df[y].mean(1)\n",
    "df=df.sort_values('y')"
   ]
  },
  {
   "cell_type": "code",
   "execution_count": 112,
   "metadata": {},
   "outputs": [
    {
     "data": {
      "text/plain": [
       "(175775, 15)"
      ]
     },
     "execution_count": 112,
     "metadata": {},
     "output_type": "execute_result"
    }
   ],
   "source": [
    "df['ta']=(df.t)/(df.a+.1)\n",
    "df['ya']=(df.y)/(df.a+.1)\n",
    "df['ay']=(df.a)/(df.y+.1)\n",
    "df.shape"
   ]
  },
  {
   "cell_type": "code",
   "execution_count": 113,
   "metadata": {},
   "outputs": [
    {
     "name": "stdout",
     "output_type": "stream",
     "text": [
      "(5016, 15)\n"
     ]
    }
   ],
   "source": [
    "d=np.log2(df+.1)\n",
    "d=d[(d.ay>5)|(d.ya>5)]\n",
    "print(d.shape)"
   ]
  },
  {
   "cell_type": "code",
   "execution_count": 114,
   "metadata": {},
   "outputs": [
    {
     "data": {
      "text/plain": [
       "<AxesSubplot:ylabel='Name'>"
      ]
     },
     "execution_count": 114,
     "metadata": {},
     "output_type": "execute_result"
    },
    {
     "data": {
      "image/png": "[encoded data removed]",
      "text/plain": [
       "<Figure size 432x288 with 2 Axes>"
      ]
     },
     "metadata": {
      "needs_background": "light"
     },
     "output_type": "display_data"
    }
   ],
   "source": [
    "d['m']=d[y+a].mean(1)\n",
    "for c in d.columns:\n",
    "    d[c]=d[c]-d.m\n",
    "d=d.sort_values('y')\n",
    "sns.heatmap(d[y+a+t]<0,cmap=\"YlGn\")"
   ]
  },
  {
   "cell_type": "code",
   "execution_count": 125,
   "metadata": {},
   "outputs": [
    {
     "data": {
      "text/plain": [
       "(154942, 17)"
      ]
     },
     "execution_count": 125,
     "metadata": {},
     "output_type": "execute_result"
    }
   ],
   "source": [
    "dg=pd.read_csv('../data/mart_export.txt',sep='\\t',index_col=2).merge(df,left_index=True,right_index=True)\n",
    "dg=dg[~dg['Gene name'].str.startswith('MT-')]\n",
    "dg.shape"
   ]
  },
  {
   "cell_type": "code",
   "execution_count": 126,
   "metadata": {},
   "outputs": [],
   "source": [
    "tfs=pd.read_csv('http://humantfs.ccbr.utoronto.ca/download/v_1.01/DatabaseExtract_v_1.01.csv',index_col=1)[['HGNC symbol']]\n",
    "dg=dg[dg['Gene stable ID'].isin(tfs.index)]"
   ]
  },
  {
   "cell_type": "code",
   "execution_count": 127,
   "metadata": {},
   "outputs": [],
   "source": [
    "#dg=dg.groupby('Gene stable ID').mean()\n",
    "aa=['GSM4227385','GSM4227387','GSM4227389','GSM4227391']\n",
    "for c in aa:\n",
    "    dg[c]=dg.a\n",
    "tt=['GSM4227386','GSM4227388','GSM4227390','GSM4227392']\n",
    "for c in tt:\n",
    "    dg[c]=dg.t\n",
    "dg[aa+tt].round(2).to_csv('../data/expf.csv')"
   ]
  },
  {
   "cell_type": "code",
   "execution_count": 128,
   "metadata": {},
   "outputs": [],
   "source": [
    "dg['gene']=dg['Gene name']\n",
    "dg=dg[~dg.gene.str.startswith('RP')]"
   ]
  },
  {
   "cell_type": "code",
   "execution_count": 129,
   "metadata": {},
   "outputs": [],
   "source": [
    "#dg=dg[['gene','ta','ya','a','y','t']].groupby('gene').median()\n",
    "#dg['gene']=dg.index"
   ]
  },
  {
   "cell_type": "code",
   "execution_count": 130,
   "metadata": {},
   "outputs": [
    {
     "data": {
      "text/plain": [
       "(19812, 26)"
      ]
     },
     "execution_count": 130,
     "metadata": {},
     "output_type": "execute_result"
    }
   ],
   "source": [
    "dg.shape"
   ]
  },
  {
   "cell_type": "code",
   "execution_count": 131,
   "metadata": {},
   "outputs": [
    {
     "data": {
      "text/html": [
       "<div>\n",
       "<style scoped>\n",
       "    .dataframe tbody tr th:only-of-type {\n",
       "        vertical-align: middle;\n",
       "    }\n",
       "\n",
       "    .dataframe tbody tr th {\n",
       "        vertical-align: top;\n",
       "    }\n",
       "\n",
       "    .dataframe thead th {\n",
       "        text-align: right;\n",
       "    }\n",
       "</style>\n",
       "<table border=\"1\" class=\"dataframe\">\n",
       "  <thead>\n",
       "    <tr style=\"text-align: right;\">\n",
       "      <th></th>\n",
       "      <th>gene</th>\n",
       "      <th>a</th>\n",
       "      <th>y</th>\n",
       "      <th>t</th>\n",
       "      <th>ya</th>\n",
       "      <th>ta</th>\n",
       "    </tr>\n",
       "  </thead>\n",
       "  <tbody>\n",
       "    <tr>\n",
       "      <th>ENST00000496096.5</th>\n",
       "      <td>TIA1</td>\n",
       "      <td>0.000000</td>\n",
       "      <td>2.472559</td>\n",
       "      <td>3.958052</td>\n",
       "      <td>24.725590</td>\n",
       "      <td>39.580523</td>\n",
       "    </tr>\n",
       "    <tr>\n",
       "      <th>ENST00000504557.1</th>\n",
       "      <td>HOXC9</td>\n",
       "      <td>0.000000</td>\n",
       "      <td>7.229349</td>\n",
       "      <td>3.989013</td>\n",
       "      <td>72.293487</td>\n",
       "      <td>39.890133</td>\n",
       "    </tr>\n",
       "    <tr>\n",
       "      <th>ENST00000481694.1</th>\n",
       "      <td>TBPL1</td>\n",
       "      <td>0.000000</td>\n",
       "      <td>2.780844</td>\n",
       "      <td>4.063209</td>\n",
       "      <td>27.808437</td>\n",
       "      <td>40.632090</td>\n",
       "    </tr>\n",
       "    <tr>\n",
       "      <th>ENST00000423703.6</th>\n",
       "      <td>ING4</td>\n",
       "      <td>0.000000</td>\n",
       "      <td>1.466457</td>\n",
       "      <td>4.084810</td>\n",
       "      <td>14.664570</td>\n",
       "      <td>40.848100</td>\n",
       "    </tr>\n",
       "    <tr>\n",
       "      <th>ENST00000482512.5</th>\n",
       "      <td>GOLGB1</td>\n",
       "      <td>0.025335</td>\n",
       "      <td>0.414122</td>\n",
       "      <td>5.195153</td>\n",
       "      <td>3.304115</td>\n",
       "      <td>41.450025</td>\n",
       "    </tr>\n",
       "    <tr>\n",
       "      <th>ENST00000472923.5</th>\n",
       "      <td>UBE2V1</td>\n",
       "      <td>0.000000</td>\n",
       "      <td>3.019228</td>\n",
       "      <td>4.146204</td>\n",
       "      <td>30.192283</td>\n",
       "      <td>41.462037</td>\n",
       "    </tr>\n",
       "    <tr>\n",
       "      <th>ENST00000381556.6</th>\n",
       "      <td>MYBBP1A</td>\n",
       "      <td>0.000000</td>\n",
       "      <td>1.652596</td>\n",
       "      <td>4.196352</td>\n",
       "      <td>16.525960</td>\n",
       "      <td>41.963523</td>\n",
       "    </tr>\n",
       "    <tr>\n",
       "      <th>ENST00000630638.1</th>\n",
       "      <td>EXOG</td>\n",
       "      <td>0.000000</td>\n",
       "      <td>0.000000</td>\n",
       "      <td>4.265481</td>\n",
       "      <td>0.000000</td>\n",
       "      <td>42.654813</td>\n",
       "    </tr>\n",
       "    <tr>\n",
       "      <th>ENST00000519742.5</th>\n",
       "      <td>CLU</td>\n",
       "      <td>0.000000</td>\n",
       "      <td>1.136454</td>\n",
       "      <td>4.362852</td>\n",
       "      <td>11.364537</td>\n",
       "      <td>43.628517</td>\n",
       "    </tr>\n",
       "    <tr>\n",
       "      <th>ENST00000464404.2</th>\n",
       "      <td>KLF5</td>\n",
       "      <td>0.000000</td>\n",
       "      <td>1.877265</td>\n",
       "      <td>4.481410</td>\n",
       "      <td>18.772650</td>\n",
       "      <td>44.814097</td>\n",
       "    </tr>\n",
       "    <tr>\n",
       "      <th>ENST00000460806.1</th>\n",
       "      <td>BHLHE40</td>\n",
       "      <td>0.000000</td>\n",
       "      <td>1.793258</td>\n",
       "      <td>4.531121</td>\n",
       "      <td>17.932580</td>\n",
       "      <td>45.311207</td>\n",
       "    </tr>\n",
       "    <tr>\n",
       "      <th>ENST00000563032.1</th>\n",
       "      <td>TCF25</td>\n",
       "      <td>0.000000</td>\n",
       "      <td>7.384979</td>\n",
       "      <td>4.612023</td>\n",
       "      <td>73.849790</td>\n",
       "      <td>46.120227</td>\n",
       "    </tr>\n",
       "    <tr>\n",
       "      <th>ENST00000375379.7</th>\n",
       "      <td>KDM5C</td>\n",
       "      <td>0.000000</td>\n",
       "      <td>2.948880</td>\n",
       "      <td>4.870377</td>\n",
       "      <td>29.488803</td>\n",
       "      <td>48.703773</td>\n",
       "    </tr>\n",
       "    <tr>\n",
       "      <th>ENST00000586094.5</th>\n",
       "      <td>ZNF146</td>\n",
       "      <td>0.000000</td>\n",
       "      <td>0.507838</td>\n",
       "      <td>4.993749</td>\n",
       "      <td>5.078380</td>\n",
       "      <td>49.937493</td>\n",
       "    </tr>\n",
       "    <tr>\n",
       "      <th>ENST00000542815.7</th>\n",
       "      <td>ZEB1</td>\n",
       "      <td>0.000000</td>\n",
       "      <td>2.780148</td>\n",
       "      <td>5.036394</td>\n",
       "      <td>27.801480</td>\n",
       "      <td>50.363940</td>\n",
       "    </tr>\n",
       "    <tr>\n",
       "      <th>ENST00000535577.5</th>\n",
       "      <td>ZNF668</td>\n",
       "      <td>0.000000</td>\n",
       "      <td>6.163432</td>\n",
       "      <td>5.108841</td>\n",
       "      <td>61.634323</td>\n",
       "      <td>51.088410</td>\n",
       "    </tr>\n",
       "    <tr>\n",
       "      <th>ENST00000488541.1</th>\n",
       "      <td>PRKCI</td>\n",
       "      <td>0.000000</td>\n",
       "      <td>0.813172</td>\n",
       "      <td>5.110513</td>\n",
       "      <td>8.131723</td>\n",
       "      <td>51.105127</td>\n",
       "    </tr>\n",
       "    <tr>\n",
       "      <th>ENST00000551711.5</th>\n",
       "      <td>RNF41</td>\n",
       "      <td>0.000000</td>\n",
       "      <td>0.718958</td>\n",
       "      <td>5.140207</td>\n",
       "      <td>7.189583</td>\n",
       "      <td>51.402067</td>\n",
       "    </tr>\n",
       "    <tr>\n",
       "      <th>ENST00000580654.6</th>\n",
       "      <td>SMARCE1</td>\n",
       "      <td>0.000000</td>\n",
       "      <td>3.960428</td>\n",
       "      <td>5.147179</td>\n",
       "      <td>39.604283</td>\n",
       "      <td>51.471793</td>\n",
       "    </tr>\n",
       "    <tr>\n",
       "      <th>ENST00000461401.1</th>\n",
       "      <td>POU5F1</td>\n",
       "      <td>0.000000</td>\n",
       "      <td>0.000000</td>\n",
       "      <td>5.197592</td>\n",
       "      <td>0.000000</td>\n",
       "      <td>51.975917</td>\n",
       "    </tr>\n",
       "    <tr>\n",
       "      <th>ENST00000324052.10</th>\n",
       "      <td>LARP7</td>\n",
       "      <td>0.000000</td>\n",
       "      <td>4.185814</td>\n",
       "      <td>5.237164</td>\n",
       "      <td>41.858137</td>\n",
       "      <td>52.371637</td>\n",
       "    </tr>\n",
       "    <tr>\n",
       "      <th>ENST00000441626.6</th>\n",
       "      <td>CNBP</td>\n",
       "      <td>0.151652</td>\n",
       "      <td>19.925431</td>\n",
       "      <td>13.348753</td>\n",
       "      <td>79.178409</td>\n",
       "      <td>53.044424</td>\n",
       "    </tr>\n",
       "    <tr>\n",
       "      <th>ENST00000439080.6</th>\n",
       "      <td>TARDBP</td>\n",
       "      <td>0.103764</td>\n",
       "      <td>9.028002</td>\n",
       "      <td>11.052017</td>\n",
       "      <td>44.306097</td>\n",
       "      <td>54.239213</td>\n",
       "    </tr>\n",
       "    <tr>\n",
       "      <th>ENST00000479947.1</th>\n",
       "      <td>ZRANB2</td>\n",
       "      <td>0.000000</td>\n",
       "      <td>1.344013</td>\n",
       "      <td>5.550386</td>\n",
       "      <td>13.440127</td>\n",
       "      <td>55.503857</td>\n",
       "    </tr>\n",
       "    <tr>\n",
       "      <th>ENST00000392348.6</th>\n",
       "      <td>BCLAF1</td>\n",
       "      <td>0.000000</td>\n",
       "      <td>0.951214</td>\n",
       "      <td>5.581862</td>\n",
       "      <td>9.512137</td>\n",
       "      <td>55.818620</td>\n",
       "    </tr>\n",
       "    <tr>\n",
       "      <th>ENST00000406593.1</th>\n",
       "      <td>MTERF4</td>\n",
       "      <td>0.000000</td>\n",
       "      <td>3.760866</td>\n",
       "      <td>5.772362</td>\n",
       "      <td>37.608660</td>\n",
       "      <td>57.723620</td>\n",
       "    </tr>\n",
       "    <tr>\n",
       "      <th>ENST00000610919.4</th>\n",
       "      <td>JADE1</td>\n",
       "      <td>0.000000</td>\n",
       "      <td>4.357445</td>\n",
       "      <td>5.865942</td>\n",
       "      <td>43.574447</td>\n",
       "      <td>58.659420</td>\n",
       "    </tr>\n",
       "    <tr>\n",
       "      <th>ENST00000494812.1</th>\n",
       "      <td>TFDP1</td>\n",
       "      <td>0.000000</td>\n",
       "      <td>16.370289</td>\n",
       "      <td>6.022524</td>\n",
       "      <td>163.702893</td>\n",
       "      <td>60.225240</td>\n",
       "    </tr>\n",
       "    <tr>\n",
       "      <th>ENST00000481853.5</th>\n",
       "      <td>TIPARP</td>\n",
       "      <td>0.000000</td>\n",
       "      <td>2.769077</td>\n",
       "      <td>6.065051</td>\n",
       "      <td>27.690770</td>\n",
       "      <td>60.650507</td>\n",
       "    </tr>\n",
       "    <tr>\n",
       "      <th>ENST00000477872.1</th>\n",
       "      <td>TMF1</td>\n",
       "      <td>0.000000</td>\n",
       "      <td>2.591553</td>\n",
       "      <td>6.941306</td>\n",
       "      <td>25.915530</td>\n",
       "      <td>69.413057</td>\n",
       "    </tr>\n",
       "    <tr>\n",
       "      <th>ENST00000502856.5</th>\n",
       "      <td>FAM200B</td>\n",
       "      <td>0.000000</td>\n",
       "      <td>4.410214</td>\n",
       "      <td>7.031612</td>\n",
       "      <td>44.102143</td>\n",
       "      <td>70.316123</td>\n",
       "    </tr>\n",
       "    <tr>\n",
       "      <th>ENST00000478236.1</th>\n",
       "      <td>PLXNA3</td>\n",
       "      <td>0.000000</td>\n",
       "      <td>3.261627</td>\n",
       "      <td>7.500652</td>\n",
       "      <td>32.616273</td>\n",
       "      <td>75.006523</td>\n",
       "    </tr>\n",
       "    <tr>\n",
       "      <th>ENST00000539662.1</th>\n",
       "      <td>HMGA2</td>\n",
       "      <td>0.000000</td>\n",
       "      <td>0.000000</td>\n",
       "      <td>7.578707</td>\n",
       "      <td>0.000000</td>\n",
       "      <td>75.787073</td>\n",
       "    </tr>\n",
       "    <tr>\n",
       "      <th>ENST00000361773.7</th>\n",
       "      <td>TGFB1I1</td>\n",
       "      <td>0.000000</td>\n",
       "      <td>2.545503</td>\n",
       "      <td>8.152230</td>\n",
       "      <td>25.455033</td>\n",
       "      <td>81.522300</td>\n",
       "    </tr>\n",
       "    <tr>\n",
       "      <th>ENST00000512818.5</th>\n",
       "      <td>POU5F1</td>\n",
       "      <td>1.179197</td>\n",
       "      <td>0.000000</td>\n",
       "      <td>117.264373</td>\n",
       "      <td>0.000000</td>\n",
       "      <td>91.670300</td>\n",
       "    </tr>\n",
       "    <tr>\n",
       "      <th>ENST00000519882.5</th>\n",
       "      <td>ZNF706</td>\n",
       "      <td>0.000000</td>\n",
       "      <td>9.500489</td>\n",
       "      <td>10.144354</td>\n",
       "      <td>95.004890</td>\n",
       "      <td>101.443540</td>\n",
       "    </tr>\n",
       "    <tr>\n",
       "      <th>ENST00000553999.5</th>\n",
       "      <td>HIF1A</td>\n",
       "      <td>0.000000</td>\n",
       "      <td>0.881081</td>\n",
       "      <td>11.612153</td>\n",
       "      <td>8.810807</td>\n",
       "      <td>116.121530</td>\n",
       "    </tr>\n",
       "    <tr>\n",
       "      <th>ENST00000454828.5</th>\n",
       "      <td>TRIM22</td>\n",
       "      <td>0.000000</td>\n",
       "      <td>5.649057</td>\n",
       "      <td>11.832731</td>\n",
       "      <td>56.490570</td>\n",
       "      <td>118.327313</td>\n",
       "    </tr>\n",
       "    <tr>\n",
       "      <th>ENST00000513407.1</th>\n",
       "      <td>POU5F1</td>\n",
       "      <td>0.000000</td>\n",
       "      <td>0.194006</td>\n",
       "      <td>12.253508</td>\n",
       "      <td>1.940057</td>\n",
       "      <td>122.535077</td>\n",
       "    </tr>\n",
       "    <tr>\n",
       "      <th>ENST00000646319.1</th>\n",
       "      <td>DDX3X</td>\n",
       "      <td>0.000000</td>\n",
       "      <td>5.646672</td>\n",
       "      <td>12.518042</td>\n",
       "      <td>56.466723</td>\n",
       "      <td>125.180417</td>\n",
       "    </tr>\n",
       "    <tr>\n",
       "      <th>ENST00000526434.2</th>\n",
       "      <td>NANOG</td>\n",
       "      <td>4.441431</td>\n",
       "      <td>0.000000</td>\n",
       "      <td>917.536091</td>\n",
       "      <td>0.000000</td>\n",
       "      <td>202.036779</td>\n",
       "    </tr>\n",
       "    <tr>\n",
       "      <th>ENST00000497048.5</th>\n",
       "      <td>KLF4</td>\n",
       "      <td>10.442936</td>\n",
       "      <td>3.843990</td>\n",
       "      <td>3550.384852</td>\n",
       "      <td>0.364603</td>\n",
       "      <td>336.754841</td>\n",
       "    </tr>\n",
       "    <tr>\n",
       "      <th>ENST00000520751.1</th>\n",
       "      <td>MYC</td>\n",
       "      <td>0.000000</td>\n",
       "      <td>0.532405</td>\n",
       "      <td>34.587405</td>\n",
       "      <td>5.324050</td>\n",
       "      <td>345.874053</td>\n",
       "    </tr>\n",
       "    <tr>\n",
       "      <th>ENST00000254231.4</th>\n",
       "      <td>LIN28A</td>\n",
       "      <td>3.235324</td>\n",
       "      <td>0.068605</td>\n",
       "      <td>3369.692566</td>\n",
       "      <td>0.020569</td>\n",
       "      <td>1010.304315</td>\n",
       "    </tr>\n",
       "    <tr>\n",
       "      <th>ENST00000645438.1</th>\n",
       "      <td>POU5F1B</td>\n",
       "      <td>0.000000</td>\n",
       "      <td>0.000000</td>\n",
       "      <td>155.542415</td>\n",
       "      <td>0.000000</td>\n",
       "      <td>1555.424150</td>\n",
       "    </tr>\n",
       "    <tr>\n",
       "      <th>ENST00000526286.1</th>\n",
       "      <td>NANOG</td>\n",
       "      <td>3.517523</td>\n",
       "      <td>0.377075</td>\n",
       "      <td>10497.700398</td>\n",
       "      <td>0.104236</td>\n",
       "      <td>2901.902876</td>\n",
       "    </tr>\n",
       "    <tr>\n",
       "      <th>ENST00000441888.7</th>\n",
       "      <td>POU5F1</td>\n",
       "      <td>0.000000</td>\n",
       "      <td>0.054300</td>\n",
       "      <td>398.800493</td>\n",
       "      <td>0.542997</td>\n",
       "      <td>3988.004927</td>\n",
       "    </tr>\n",
       "    <tr>\n",
       "      <th>ENST00000541267.5</th>\n",
       "      <td>NANOG</td>\n",
       "      <td>0.118081</td>\n",
       "      <td>0.069547</td>\n",
       "      <td>7107.365313</td>\n",
       "      <td>0.318905</td>\n",
       "      <td>32590.434057</td>\n",
       "    </tr>\n",
       "    <tr>\n",
       "      <th>ENST00000411706.1</th>\n",
       "      <td>KLF4</td>\n",
       "      <td>0.000000</td>\n",
       "      <td>1.430579</td>\n",
       "      <td>3833.460529</td>\n",
       "      <td>14.305787</td>\n",
       "      <td>38334.605287</td>\n",
       "    </tr>\n",
       "    <tr>\n",
       "      <th>ENST00000638788.1</th>\n",
       "      <td>POU5F1</td>\n",
       "      <td>0.000000</td>\n",
       "      <td>0.355623</td>\n",
       "      <td>6234.225027</td>\n",
       "      <td>3.556230</td>\n",
       "      <td>62342.250267</td>\n",
       "    </tr>\n",
       "  </tbody>\n",
       "</table>\n",
       "</div>"
      ],
      "text/plain": [
       "                       gene          a          y             t          ya  \\\n",
       "ENST00000496096.5      TIA1   0.000000   2.472559      3.958052   24.725590   \n",
       "ENST00000504557.1     HOXC9   0.000000   7.229349      3.989013   72.293487   \n",
       "ENST00000481694.1     TBPL1   0.000000   2.780844      4.063209   27.808437   \n",
       "ENST00000423703.6      ING4   0.000000   1.466457      4.084810   14.664570   \n",
       "ENST00000482512.5    GOLGB1   0.025335   0.414122      5.195153    3.304115   \n",
       "ENST00000472923.5    UBE2V1   0.000000   3.019228      4.146204   30.192283   \n",
       "ENST00000381556.6   MYBBP1A   0.000000   1.652596      4.196352   16.525960   \n",
       "ENST00000630638.1      EXOG   0.000000   0.000000      4.265481    0.000000   \n",
       "ENST00000519742.5       CLU   0.000000   1.136454      4.362852   11.364537   \n",
       "ENST00000464404.2      KLF5   0.000000   1.877265      4.481410   18.772650   \n",
       "ENST00000460806.1   BHLHE40   0.000000   1.793258      4.531121   17.932580   \n",
       "ENST00000563032.1     TCF25   0.000000   7.384979      4.612023   73.849790   \n",
       "ENST00000375379.7     KDM5C   0.000000   2.948880      4.870377   29.488803   \n",
       "ENST00000586094.5    ZNF146   0.000000   0.507838      4.993749    5.078380   \n",
       "ENST00000542815.7      ZEB1   0.000000   2.780148      5.036394   27.801480   \n",
       "ENST00000535577.5    ZNF668   0.000000   6.163432      5.108841   61.634323   \n",
       "ENST00000488541.1     PRKCI   0.000000   0.813172      5.110513    8.131723   \n",
       "ENST00000551711.5     RNF41   0.000000   0.718958      5.140207    7.189583   \n",
       "ENST00000580654.6   SMARCE1   0.000000   3.960428      5.147179   39.604283   \n",
       "ENST00000461401.1    POU5F1   0.000000   0.000000      5.197592    0.000000   \n",
       "ENST00000324052.10    LARP7   0.000000   4.185814      5.237164   41.858137   \n",
       "ENST00000441626.6      CNBP   0.151652  19.925431     13.348753   79.178409   \n",
       "ENST00000439080.6    TARDBP   0.103764   9.028002     11.052017   44.306097   \n",
       "ENST00000479947.1    ZRANB2   0.000000   1.344013      5.550386   13.440127   \n",
       "ENST00000392348.6    BCLAF1   0.000000   0.951214      5.581862    9.512137   \n",
       "ENST00000406593.1    MTERF4   0.000000   3.760866      5.772362   37.608660   \n",
       "ENST00000610919.4     JADE1   0.000000   4.357445      5.865942   43.574447   \n",
       "ENST00000494812.1     TFDP1   0.000000  16.370289      6.022524  163.702893   \n",
       "ENST00000481853.5    TIPARP   0.000000   2.769077      6.065051   27.690770   \n",
       "ENST00000477872.1      TMF1   0.000000   2.591553      6.941306   25.915530   \n",
       "ENST00000502856.5   FAM200B   0.000000   4.410214      7.031612   44.102143   \n",
       "ENST00000478236.1    PLXNA3   0.000000   3.261627      7.500652   32.616273   \n",
       "ENST00000539662.1     HMGA2   0.000000   0.000000      7.578707    0.000000   \n",
       "ENST00000361773.7   TGFB1I1   0.000000   2.545503      8.152230   25.455033   \n",
       "ENST00000512818.5    POU5F1   1.179197   0.000000    117.264373    0.000000   \n",
       "ENST00000519882.5    ZNF706   0.000000   9.500489     10.144354   95.004890   \n",
       "ENST00000553999.5     HIF1A   0.000000   0.881081     11.612153    8.810807   \n",
       "ENST00000454828.5    TRIM22   0.000000   5.649057     11.832731   56.490570   \n",
       "ENST00000513407.1    POU5F1   0.000000   0.194006     12.253508    1.940057   \n",
       "ENST00000646319.1     DDX3X   0.000000   5.646672     12.518042   56.466723   \n",
       "ENST00000526434.2     NANOG   4.441431   0.000000    917.536091    0.000000   \n",
       "ENST00000497048.5      KLF4  10.442936   3.843990   3550.384852    0.364603   \n",
       "ENST00000520751.1       MYC   0.000000   0.532405     34.587405    5.324050   \n",
       "ENST00000254231.4    LIN28A   3.235324   0.068605   3369.692566    0.020569   \n",
       "ENST00000645438.1   POU5F1B   0.000000   0.000000    155.542415    0.000000   \n",
       "ENST00000526286.1     NANOG   3.517523   0.377075  10497.700398    0.104236   \n",
       "ENST00000441888.7    POU5F1   0.000000   0.054300    398.800493    0.542997   \n",
       "ENST00000541267.5     NANOG   0.118081   0.069547   7107.365313    0.318905   \n",
       "ENST00000411706.1      KLF4   0.000000   1.430579   3833.460529   14.305787   \n",
       "ENST00000638788.1    POU5F1   0.000000   0.355623   6234.225027    3.556230   \n",
       "\n",
       "                              ta  \n",
       "ENST00000496096.5      39.580523  \n",
       "ENST00000504557.1      39.890133  \n",
       "ENST00000481694.1      40.632090  \n",
       "ENST00000423703.6      40.848100  \n",
       "ENST00000482512.5      41.450025  \n",
       "ENST00000472923.5      41.462037  \n",
       "ENST00000381556.6      41.963523  \n",
       "ENST00000630638.1      42.654813  \n",
       "ENST00000519742.5      43.628517  \n",
       "ENST00000464404.2      44.814097  \n",
       "ENST00000460806.1      45.311207  \n",
       "ENST00000563032.1      46.120227  \n",
       "ENST00000375379.7      48.703773  \n",
       "ENST00000586094.5      49.937493  \n",
       "ENST00000542815.7      50.363940  \n",
       "ENST00000535577.5      51.088410  \n",
       "ENST00000488541.1      51.105127  \n",
       "ENST00000551711.5      51.402067  \n",
       "ENST00000580654.6      51.471793  \n",
       "ENST00000461401.1      51.975917  \n",
       "ENST00000324052.10     52.371637  \n",
       "ENST00000441626.6      53.044424  \n",
       "ENST00000439080.6      54.239213  \n",
       "ENST00000479947.1      55.503857  \n",
       "ENST00000392348.6      55.818620  \n",
       "ENST00000406593.1      57.723620  \n",
       "ENST00000610919.4      58.659420  \n",
       "ENST00000494812.1      60.225240  \n",
       "ENST00000481853.5      60.650507  \n",
       "ENST00000477872.1      69.413057  \n",
       "ENST00000502856.5      70.316123  \n",
       "ENST00000478236.1      75.006523  \n",
       "ENST00000539662.1      75.787073  \n",
       "ENST00000361773.7      81.522300  \n",
       "ENST00000512818.5      91.670300  \n",
       "ENST00000519882.5     101.443540  \n",
       "ENST00000553999.5     116.121530  \n",
       "ENST00000454828.5     118.327313  \n",
       "ENST00000513407.1     122.535077  \n",
       "ENST00000646319.1     125.180417  \n",
       "ENST00000526434.2     202.036779  \n",
       "ENST00000497048.5     336.754841  \n",
       "ENST00000520751.1     345.874053  \n",
       "ENST00000254231.4    1010.304315  \n",
       "ENST00000645438.1    1555.424150  \n",
       "ENST00000526286.1    2901.902876  \n",
       "ENST00000441888.7    3988.004927  \n",
       "ENST00000541267.5   32590.434057  \n",
       "ENST00000411706.1   38334.605287  \n",
       "ENST00000638788.1   62342.250267  "
      ]
     },
     "execution_count": 131,
     "metadata": {},
     "output_type": "execute_result"
    }
   ],
   "source": [
    "dg=dg[dg.t>1]\n",
    "dg[['gene','a','y','t','ya','ta']].sort_values('ta').tail(50)"
   ]
  },
  {
   "cell_type": "code",
   "execution_count": 122,
   "metadata": {},
   "outputs": [
    {
     "data": {
      "application/vnd.plotly.v1+json": {
       "config": {
        "plotlyServerURL": "https://plot.ly"
       },
       "data": [
        {
         "customdata": [
          [
           "GTF3A"
          ],
          [
           "HMGB1"
          ],
          [
           "HMGB1"
          ],
          [
           "HMGB1"
          ],
          [
           "PRNP"
          ],
          [
           "TSC22D1"
          ],
          [
           "RCAN1"
          ],
          [
           "RBBP7"
          ],
          [
           "RBBP7"
          ],
          [
           "TRIM13"
          ],
          [
           "MPG"
          ],
          [
           "XBP1"
          ],
          [
           "XBP1"
          ],
          [
           "XBP1"
          ],
          [
           "EWSR1"
          ],
          [
           "EWSR1"
          ],
          [
           "COMMD6"
          ],
          [
           "COMMD6"
          ],
          [
           "ID1"
          ],
          [
           "POLR2E"
          ],
          [
           "BAG1"
          ],
          [
           "COMMD7"
          ],
          [
           "DDX3X"
          ],
          [
           "TADA3"
          ],
          [
           "TADA3"
          ],
          [
           "TWIST1"
          ],
          [
           "ID2"
          ],
          [
           "PRMT2"
          ],
          [
           "PRMT2"
          ],
          [
           "IL6"
          ],
          [
           "IL6"
          ],
          [
           "CUL4A"
          ],
          [
           "SNURF"
          ],
          [
           "CUL2"
          ],
          [
           "H1-0"
          ],
          [
           "TRIM22"
          ],
          [
           "TRIM22"
          ],
          [
           "DVL1"
          ],
          [
           "TAX1BP1"
          ],
          [
           "TAX1BP1"
          ],
          [
           "TOX4"
          ],
          [
           "ZFAND5"
          ],
          [
           "AFAP1"
          ],
          [
           "ATF4"
          ],
          [
           "POU5F1"
          ],
          [
           "CLU"
          ],
          [
           "HNRNPK"
          ],
          [
           "HNRNPK"
          ],
          [
           "HNRNPK"
          ],
          [
           "HNRNPK"
          ],
          [
           "TOP2B"
          ],
          [
           "PABPN1"
          ],
          [
           "PABPN1"
          ],
          [
           "DNAJA3"
          ],
          [
           "NRG1"
          ],
          [
           "UBP1"
          ],
          [
           "NONO"
          ],
          [
           "PARK7"
          ],
          [
           "PARK7"
          ],
          [
           "PARK7"
          ],
          [
           "PARK7"
          ],
          [
           "KEAP1"
          ],
          [
           "ENO1"
          ],
          [
           "PLXNB2"
          ],
          [
           "CTNNBIP1"
          ],
          [
           "LRRFIP2"
          ],
          [
           "TARDBP"
          ],
          [
           "TARDBP"
          ],
          [
           "KLF4"
          ],
          [
           "HMGA1"
          ],
          [
           "HMGA1"
          ],
          [
           "POLE3"
          ],
          [
           "SNRPC"
          ],
          [
           "TCEAL8"
          ],
          [
           "TCEAL8"
          ],
          [
           "TCEAL1"
          ],
          [
           "TSC22D3"
          ],
          [
           "PSMD10"
          ],
          [
           "CDKN1A"
          ],
          [
           "PHF19"
          ],
          [
           "COPS2"
          ],
          [
           "UBB"
          ],
          [
           "COMMD1"
          ],
          [
           "RECQL"
          ],
          [
           "HIF1A"
          ],
          [
           "LIN28A"
          ],
          [
           "HNRNPD"
          ],
          [
           "HNRNPD"
          ],
          [
           "HNRNPDL"
          ],
          [
           "ANXA4"
          ],
          [
           "MAX"
          ],
          [
           "BOLA2B"
          ],
          [
           "GTF2A2"
          ],
          [
           "GTF2A2"
          ],
          [
           "GTF2A2"
          ],
          [
           "UBA52"
          ],
          [
           "FUS"
          ],
          [
           "PYCARD"
          ],
          [
           "BOLA3"
          ],
          [
           "FLNA"
          ],
          [
           "FLNA"
          ],
          [
           "FLNA"
          ],
          [
           "FLNA"
          ],
          [
           "DDB1"
          ],
          [
           "BRD7"
          ],
          [
           "PLXNA3"
          ],
          [
           "JDP2"
          ],
          [
           "KCMF1"
          ],
          [
           "HMGN3"
          ],
          [
           "HMGN3"
          ],
          [
           "MACF1"
          ],
          [
           "BUD31"
          ],
          [
           "BUD31"
          ],
          [
           "ZNF207"
          ],
          [
           "ZNF207"
          ],
          [
           "PSMD11"
          ],
          [
           "EDF1"
          ],
          [
           "EDF1"
          ],
          [
           "LARP6"
          ],
          [
           "YBX1"
          ],
          [
           "YBX1"
          ],
          [
           "POLR2J"
          ],
          [
           "SIRT2"
          ],
          [
           "PCBP2"
          ],
          [
           "CGGBP1"
          ],
          [
           "SMUG1"
          ],
          [
           "HNRNPA1"
          ],
          [
           "HDAC2"
          ],
          [
           "SMARCE1"
          ],
          [
           "FHL2"
          ],
          [
           "FHL2"
          ],
          [
           "FHL2"
          ],
          [
           "FHL2"
          ],
          [
           "FHL2"
          ],
          [
           "DRAP1"
          ],
          [
           "BANF1"
          ],
          [
           "RNF14"
          ],
          [
           "RNF41"
          ],
          [
           "TBPL1"
          ],
          [
           "SGK1"
          ],
          [
           "DDIT3"
          ],
          [
           "HMGA2"
          ],
          [
           "PLXNA1"
          ],
          [
           "ZRANB2"
          ],
          [
           "CNBP"
          ],
          [
           "CNBP"
          ],
          [
           "NFE2L1"
          ],
          [
           "NFE2L1"
          ],
          [
           "MTPN"
          ],
          [
           "NR2F2"
          ],
          [
           "FUBP1"
          ],
          [
           "NPM1"
          ],
          [
           "NPM1"
          ],
          [
           "LMO4"
          ],
          [
           "HMGB2"
          ],
          [
           "HMGB2"
          ],
          [
           "DR1"
          ],
          [
           "NME2"
          ],
          [
           "NME2"
          ],
          [
           "HNRNPA3"
          ],
          [
           "HNRNPA3"
          ],
          [
           "HNRNPA3"
          ],
          [
           "HNRNPA3"
          ],
          [
           "NFE2L2"
          ],
          [
           "ERVK3-1"
          ],
          [
           "ERVK3-1"
          ],
          [
           "CSDE1"
          ],
          [
           "CSDE1"
          ],
          [
           "PSMC5"
          ],
          [
           "STAT1"
          ],
          [
           "STAT1"
          ],
          [
           "SUMO1"
          ],
          [
           "SUMO1"
          ],
          [
           "SUMO1"
          ],
          [
           "SPHK1"
          ],
          [
           "CENPX"
          ],
          [
           "IFI16"
          ],
          [
           "STK16"
          ],
          [
           "DDR2"
          ],
          [
           "SP100"
          ],
          [
           "LRRFIP1"
          ],
          [
           "HNRNPU"
          ],
          [
           "HMGB1"
          ],
          [
           "HMGB1"
          ],
          [
           "MAPK1"
          ],
          [
           "MPG"
          ],
          [
           "HMGN1"
          ],
          [
           "EWSR1"
          ],
          [
           "COMMD6"
          ],
          [
           "DEK"
          ],
          [
           "CNOT7"
          ],
          [
           "CNOT7"
          ],
          [
           "CREB3"
          ],
          [
           "ID2"
          ],
          [
           "CTBP1"
          ],
          [
           "PRMT2"
          ],
          [
           "GAS6"
          ],
          [
           "MXD4"
          ],
          [
           "ZFAND5"
          ],
          [
           "ZFR"
          ],
          [
           "SUB1"
          ],
          [
           "SUB1"
          ],
          [
           "SUB1"
          ],
          [
           "SUB1"
          ],
          [
           "SUB1"
          ],
          [
           "SUB1"
          ],
          [
           "POU5F1"
          ],
          [
           "POU5F1"
          ],
          [
           "CLU"
          ],
          [
           "CLU"
          ],
          [
           "CLU"
          ],
          [
           "CLU"
          ],
          [
           "FAM200B"
          ],
          [
           "HNRNPK"
          ],
          [
           "HNRNPK"
          ],
          [
           "HNRNPK"
          ],
          [
           "NRG1"
          ],
          [
           "NRG1"
          ],
          [
           "NRG1"
          ],
          [
           "NONO"
          ],
          [
           "NONO"
          ],
          [
           "CAMTA1"
          ],
          [
           "PARK7"
          ],
          [
           "PARK7"
          ],
          [
           "PARK7"
          ],
          [
           "ENO1"
          ],
          [
           "ENO1"
          ],
          [
           "UBE2K"
          ],
          [
           "UBE2K"
          ],
          [
           "UBE2K"
          ],
          [
           "PLXNB2"
          ],
          [
           "SLC30A9"
          ],
          [
           "KLF4"
          ],
          [
           "KLF4"
          ],
          [
           "HMGA1"
          ],
          [
           "CTNNB1"
          ],
          [
           "SNRPC"
          ],
          [
           "TAF9"
          ],
          [
           "CDKN1A"
          ],
          [
           "HP1BP3"
          ],
          [
           "ID3"
          ],
          [
           "ID3"
          ],
          [
           "COMMD1"
          ],
          [
           "VEGFA"
          ],
          [
           "VEGFA"
          ],
          [
           "HNRNPD"
          ],
          [
           "HNRNPD"
          ],
          [
           "HNRNPDL"
          ],
          [
           "HNRNPDL"
          ],
          [
           "ANXA4"
          ],
          [
           "ANXA4"
          ],
          [
           "GTF2A2"
          ],
          [
           "RBM5"
          ],
          [
           "FUS"
          ],
          [
           "MTDH"
          ],
          [
           "RIOK2"
          ],
          [
           "ZNF706"
          ],
          [
           "ZNF706"
          ],
          [
           "FLNA"
          ],
          [
           "FLNA"
          ],
          [
           "FLNA"
          ],
          [
           "FLNA"
          ],
          [
           "FLNA"
          ],
          [
           "FLNA"
          ],
          [
           "FLNA"
          ],
          [
           "FLNA"
          ],
          [
           "FLNA"
          ],
          [
           "SFPQ"
          ],
          [
           "SFPQ"
          ],
          [
           "SFPQ"
          ],
          [
           "PLXNA3"
          ],
          [
           "PLXNA3"
          ],
          [
           "PLXNA3"
          ],
          [
           "POLE4"
          ],
          [
           "POLE4"
          ],
          [
           "SF3A3"
          ],
          [
           "SF3A3"
          ],
          [
           "MYCBP"
          ],
          [
           "BUD31"
          ],
          [
           "BUD31"
          ],
          [
           "WNT5A"
          ],
          [
           "WNT5A"
          ],
          [
           "WNT5A"
          ],
          [
           "PSMD11"
          ],
          [
           "MYC"
          ],
          [
           "YBX1"
          ],
          [
           "MATR3"
          ],
          [
           "MATR3"
          ],
          [
           "MATR3"
          ],
          [
           "CXXC5"
          ],
          [
           "PFDN1"
          ],
          [
           "PFDN1"
          ],
          [
           "HDAC2"
          ],
          [
           "HDAC2"
          ],
          [
           "HBP1"
          ],
          [
           "ZMAT2"
          ],
          [
           "ZMAT2"
          ],
          [
           "ZNF511"
          ],
          [
           "GOLGB1"
          ],
          [
           "ZNF330"
          ],
          [
           "CNBP"
          ],
          [
           "CNBP"
          ],
          [
           "CNBP"
          ],
          [
           "CNBP"
          ],
          [
           "PLXND1"
          ],
          [
           "PLXND1"
          ],
          [
           "NPM1"
          ],
          [
           "PHB"
          ],
          [
           "LMO4"
          ],
          [
           "HNRNPAB"
          ],
          [
           "HNRNPAB"
          ],
          [
           "HNRNPAB"
          ],
          [
           "SSB"
          ],
          [
           "TAF13"
          ],
          [
           "ZIC1"
          ],
          [
           "MBNL1"
          ],
          [
           "NME2"
          ],
          [
           "NME2"
          ],
          [
           "NME2"
          ],
          [
           "CSDE1"
          ],
          [
           "CSDE1"
          ],
          [
           "ZC3H15"
          ],
          [
           "RNF25"
          ],
          [
           "USF1"
          ],
          [
           "PRRX1"
          ],
          [
           "NUCKS1"
          ],
          [
           "CDKN2A"
          ],
          [
           "CDKN2A"
          ],
          [
           "CDKN2A"
          ],
          [
           "POLR2E"
          ],
          [
           "POLR2E"
          ],
          [
           "POLR2L"
          ],
          [
           "APEX1"
          ],
          [
           "APEX1"
          ],
          [
           "APEX1"
          ],
          [
           "APEX1"
          ],
          [
           "CNOT7"
          ],
          [
           "TLE5"
          ],
          [
           "TLE5"
          ],
          [
           "TLE5"
          ],
          [
           "TAF10"
          ],
          [
           "TAF10"
          ],
          [
           "CLU"
          ],
          [
           "GREM1"
          ],
          [
           "GREM1"
          ],
          [
           "PABPN1"
          ],
          [
           "TEAD1"
          ],
          [
           "PIN1"
          ],
          [
           "CARHSP1"
          ],
          [
           "CAMTA2"
          ],
          [
           "SMAD2"
          ],
          [
           "SMAD2"
          ],
          [
           "C17orf49"
          ],
          [
           "C17orf49"
          ],
          [
           "MBD2"
          ],
          [
           "MBD2"
          ],
          [
           "PSMA6"
          ],
          [
           "PSMA6"
          ],
          [
           "PSMA6"
          ],
          [
           "PSMA6"
          ],
          [
           "PHB2"
          ],
          [
           "NANOG"
          ],
          [
           "NANOG"
          ],
          [
           "NANOG"
          ],
          [
           "YBX3"
          ],
          [
           "YBX3"
          ],
          [
           "YBX3"
          ],
          [
           "FBN1"
          ],
          [
           "FBN1"
          ],
          [
           "EID1"
          ],
          [
           "COPS2"
          ],
          [
           "COPS2"
          ],
          [
           "UBB"
          ],
          [
           "UBB"
          ],
          [
           "UBB"
          ],
          [
           "UBB"
          ],
          [
           "UBB"
          ],
          [
           "EIF3C"
          ],
          [
           "EIF3C"
          ],
          [
           "EIF3C"
          ],
          [
           "EIF3C"
          ],
          [
           "EIF3C"
          ],
          [
           "MNAT1"
          ],
          [
           "MNAT1"
          ],
          [
           "HIF1A"
          ],
          [
           "HIF1A"
          ],
          [
           "HIF1A"
          ],
          [
           "HIF1A"
          ],
          [
           "HIF1A"
          ],
          [
           "HIF1A"
          ],
          [
           "MAZ"
          ],
          [
           "MAZ"
          ],
          [
           "CHURC1"
          ],
          [
           "BOLA2B"
          ],
          [
           "GTF2A2"
          ],
          [
           "GTF2A2"
          ],
          [
           "UBA52"
          ],
          [
           "UBA52"
          ],
          [
           "FUS"
          ],
          [
           "FUS"
          ],
          [
           "RFXANK"
          ],
          [
           "TRAF4"
          ],
          [
           "SNW1"
          ],
          [
           "SNW1"
          ],
          [
           "CERS5"
          ],
          [
           "EIF3K"
          ],
          [
           "EIF3K"
          ],
          [
           "EIF3K"
          ],
          [
           "EIF3K"
          ],
          [
           "PCBP2"
          ],
          [
           "PCBP2"
          ],
          [
           "PCBP2"
          ],
          [
           "HNRNPA1"
          ],
          [
           "HNRNPA1"
          ],
          [
           "HNRNPA1"
          ],
          [
           "HNRNPA1"
          ],
          [
           "HNRNPA1"
          ],
          [
           "HNRNPA1"
          ],
          [
           "HNRNPA1"
          ],
          [
           "PFDN1"
          ],
          [
           "DRAP1"
          ],
          [
           "DRAP1"
          ],
          [
           "DRAP1"
          ],
          [
           "DRAP1"
          ],
          [
           "BANF1"
          ],
          [
           "BANF1"
          ],
          [
           "BANF1"
          ],
          [
           "PA2G4"
          ],
          [
           "RNF41"
          ],
          [
           "CTBP2"
          ],
          [
           "STAT2"
          ],
          [
           "SIVA1"
          ],
          [
           "SIVA1"
          ],
          [
           "AKT1"
          ],
          [
           "DDIT3"
          ],
          [
           "BCLAF1"
          ],
          [
           "BCLAF1"
          ],
          [
           "IQGAP1"
          ],
          [
           "IQGAP1"
          ],
          [
           "HSBP1"
          ],
          [
           "HSBP1"
          ],
          [
           "MDM2"
          ],
          [
           "CDK5RAP3"
          ],
          [
           "HOXB2"
          ],
          [
           "NPM1"
          ],
          [
           "NPM1"
          ],
          [
           "TCF25"
          ],
          [
           "PAWR"
          ],
          [
           "UBE2N"
          ],
          [
           "UBE2N"
          ],
          [
           "UBE2N"
          ],
          [
           "UBE2N"
          ],
          [
           "NME2"
          ],
          [
           "NME2"
          ],
          [
           "SUPT4H1"
          ],
          [
           "SUPT4H1"
          ],
          [
           "SUPT4H1"
          ],
          [
           "CSDE1"
          ],
          [
           "CSDE1"
          ],
          [
           "CSDE1"
          ],
          [
           "CSDE1"
          ],
          [
           "TRIM28"
          ],
          [
           "PSMC5"
          ],
          [
           "PSMC5"
          ],
          [
           "PSMC5"
          ],
          [
           "PSMC5"
          ],
          [
           "PSMC5"
          ],
          [
           "PSMC5"
          ],
          [
           "PSMC5"
          ],
          [
           "DDX5"
          ],
          [
           "DDX5"
          ],
          [
           "DDX5"
          ],
          [
           "DDX5"
          ],
          [
           "DDX5"
          ],
          [
           "DDX5"
          ],
          [
           "DDX5"
          ],
          [
           "PSMD12"
          ],
          [
           "PSMD12"
          ],
          [
           "CERS2"
          ],
          [
           "SPHK1"
          ],
          [
           "UBC"
          ],
          [
           "UBC"
          ],
          [
           "UBC"
          ],
          [
           "UBC"
          ],
          [
           "UBC"
          ],
          [
           "UBC"
          ],
          [
           "UBC"
          ],
          [
           "UBC"
          ],
          [
           "UBC"
          ],
          [
           "UBC"
          ],
          [
           "UBC"
          ],
          [
           "CENPX"
          ],
          [
           "CENPX"
          ],
          [
           "RBCK1"
          ],
          [
           "POLR2E"
          ],
          [
           "DDX3X"
          ],
          [
           "CNOT7"
          ],
          [
           "GAS6"
          ],
          [
           "GAS6"
          ],
          [
           "POU5F1"
          ],
          [
           "ENO1"
          ],
          [
           "ENO1"
          ],
          [
           "ENO1"
          ],
          [
           "ENO1"
          ],
          [
           "ENO1"
          ],
          [
           "ENO1"
          ],
          [
           "RNF114"
          ],
          [
           "TARDBP"
          ],
          [
           "TARDBP"
          ],
          [
           "CTNNB1"
          ],
          [
           "CTNNB1"
          ],
          [
           "CTNNB1"
          ],
          [
           "CTNNB1"
          ],
          [
           "CTNNB1"
          ],
          [
           "SNAI2"
          ],
          [
           "DDB2"
          ],
          [
           "HNRNPDL"
          ],
          [
           "JUND"
          ],
          [
           "SSBP4"
          ],
          [
           "UBA52"
          ],
          [
           "UBA52"
          ],
          [
           "UBA52"
          ],
          [
           "UBA52"
          ],
          [
           "UBA52"
          ],
          [
           "UBA52"
          ],
          [
           "POU5F1B"
          ],
          [
           "HNRNPL"
          ],
          [
           "SUPT5H"
          ],
          [
           "ZNF428"
          ],
          [
           "CIB1"
          ],
          [
           "GADD45A"
          ],
          [
           "ZRANB2"
          ],
          [
           "CITED2"
          ],
          [
           "CHD2"
          ],
          [
           "IRF3"
          ],
          [
           "ATF5"
          ],
          [
           "ZBTB38"
          ],
          [
           "TRIM28"
          ],
          [
           "TRIM28"
          ],
          [
           "TRIM28"
          ],
          [
           "TRIM28"
          ],
          [
           "TRIM28"
          ],
          [
           "ZC3H11A"
          ],
          [
           "HNRNPU"
          ]
         ],
         "hovertemplate": "Trated vs Aged=%{x}<br>Young vs Aged=%{y}<br>gene=%{customdata[0]}<extra></extra>",
         "legendgroup": "",
         "marker": {
          "color": "#636efa",
          "symbol": "circle"
         },
         "mode": "markers",
         "name": "",
         "orientation": "v",
         "showlegend": false,
         "type": "scatter",
         "x": [
          0.7383851234053568,
          0.5041025857794071,
          1.0745879308743393,
          1.0971043363776145,
          0.6962373672350509,
          2.2155053558235736,
          0.8031308285645937,
          0.7120555050106343,
          1.8203807401023726,
          1.8474677405639515,
          1.0638318578086994,
          0.6564726100699062,
          1.6282604590362202,
          4.073836065438253,
          5.064623194704498,
          1.809437740478304,
          1.3666261823297952,
          5.50519477783503,
          1.451041538272725,
          1.3404246214254358,
          2.0540553519187457,
          0.3794488489611321,
          1.0160573609824923,
          0.6179067791377427,
          0.8786303634289052,
          0.6819899480812859,
          0.9518025074302486,
          3.457614174925,
          2.421713733104926,
          1.3369139372311576,
          0.3606745162307261,
          0.6957967679593601,
          6.886730899750771,
          0.9550290633793045,
          0.6316510968628524,
          118.32731333333332,
          1.7668588517098096,
          0.6983033634936859,
          2.1204545448348733,
          0.8106707684092539,
          1.2910882111470063,
          0.6432191341879289,
          0.9366189242010795,
          0.5836548501968658,
          3988.0049266666665,
          2.2926576401657734,
          1.3021586899447148,
          1.1678794646046509,
          1.1927730163402441,
          0.6821400362585918,
          0.4485629853067361,
          1.6574982390762096,
          1.0756447351759217,
          1.1555777576287767,
          1.179901959950736,
          0.8582644726266708,
          0.4113683488632448,
          3.538444318596864,
          1.1681751433527325,
          0.7079151427110231,
          0.5477909956743555,
          0.9283665808545619,
          0.7222543059330064,
          2.546600493365246,
          2.7275776006017387,
          0.9649781532223755,
          54.23921261980753,
          1.2354991325616551,
          38334.605286666665,
          1.994901996164102,
          0.8669876157787009,
          0.5639142629330409,
          0.31584775180240177,
          0.7722698636849744,
          17.47020241060437,
          5.345782703020374,
          0.9887801520988635,
          0.7551473913102065,
          1.3702696905298826,
          0.6113550766752548,
          0.7623841095899849,
          1.0221987529775862,
          1.7847742179851713,
          2.439772082075855,
          3.4314649308195757,
          1010.3043151325712,
          1.167586759515089,
          0.6232470892732052,
          2.4023885495590656,
          1.1253874392911765,
          1.8591717605190734,
          1.025085952992244,
          1.6720871050509134,
          0.5999968429062279,
          0.5905185245250726,
          1.22047914580754,
          1.1443830762126013,
          1.265301567728996,
          1.2465639682925724,
          0.5189535224428633,
          0.4346302174460194,
          0.4551632855670826,
          0.5911384015145393,
          0.29729677606666893,
          1.527629805768639,
          1.0363623534924484,
          0.832983853155595,
          0.7077477014781178,
          1.3237797265897135,
          0.5337466797918913,
          0.6577912325461629,
          1.5532776421149592,
          0.40997238937453523,
          0.49728096063798666,
          1.0630311886108523,
          1.2802378369743614,
          2.472157843146477,
          2.6756738007725205,
          2.2968669991895942,
          1.9808573662938507,
          1.4792070269807331,
          0.9080202247536517,
          1.2969413845122757,
          0.5917361993016623,
          0.8323786178916563,
          0.9221490964035604,
          0.6655529086153414,
          1.3486300038148322,
          1.9580018106284367,
          1.1834079737007401,
          0.9375536077109305,
          1.6539693454428912,
          1.4464410820519789,
          2.007665559184164,
          0.6187477747000323,
          0.5105540402056296,
          1.0652029648675385,
          1.3939361850348766,
          0.772613184933455,
          2.416692632202062,
          2.3208907100104073,
          28.611600409454514,
          0.9343867114068176,
          0.7847792838976132,
          0.4404817004706118,
          53.04442372214576,
          2.1953583123885383,
          1.680642210820233,
          1.2849447050501923,
          0.4557316976648993,
          1.2354770226550307,
          1.2360280296628225,
          0.8502942882945264,
          0.8304505159912781,
          0.7885340417656329,
          0.6325457062600744,
          1.188887585565884,
          1.4181037058400645,
          3.122485802930581,
          0.966653605583579,
          1.0838896552821606,
          2.553177613078795,
          1.450382730237554,
          0.7632726310486265,
          0.895266260916115,
          1.9700088993331226,
          0.7384568461667038,
          0.8102982922157426,
          1.0082577939831898,
          0.3663644679633872,
          1.4128916942819683,
          0.9452997827269758,
          1.276743464706049,
          0.5804778537608694,
          1.0044629992438547,
          0.7284099759820768,
          2.8829025963270465,
          1.8339955424938295,
          1.0903704785554253,
          9.770646102833243,
          1.5193599747398157,
          0.8324090327085382,
          2.7566484542495635,
          2.139094071828573,
          2.0939495359657183,
          1.4366681788740054,
          0.5230509179262286,
          1.0008909730087778,
          2.461737515915166,
          0.49746891943314714,
          2.339056640635634,
          1.207517812742504,
          1.2054796041329234,
          2.594959255046583,
          0.5921582484416769,
          1.806970752857919,
          1.2767090827897678,
          1.2243090525196472,
          1.4150715599581218,
          5.992521349042496,
          5.1034240152080885,
          8.46926311219445,
          1.023799134152379,
          0.9244660456104702,
          1.592122868417166,
          1.2893838328651837,
          91.67030019613865,
          122.53507666666665,
          2.756133475696673,
          2.123233626106819,
          3.1122784294655226,
          7.104139081609922,
          3.612470584910339,
          2.0598733064181,
          2.2085315110750563,
          1.4692885489332104,
          1.2667093892054746,
          4.279484674501509,
          2.1515911002977357,
          0.5789569122464068,
          0.31740476304569853,
          1.4948797440344928,
          1.3772934656897402,
          1.1254177369692762,
          0.5522494943621351,
          1.4825477429460734,
          0.5803753640240406,
          1.4190264199389115,
          2.1629859461454024,
          0.5705006732907366,
          0.7481869676622916,
          1.5027351052538072,
          336.7548412904198,
          13.176731542958954,
          4.23260152575528,
          1.4796545586190046,
          0.602184180542695,
          2.5065512742671934,
          2.8476532562908368,
          1.0859497261518252,
          0.2695037293873364,
          1.0586797337561902,
          0.8068956637933001,
          15.011727731878658,
          2.5487547786283398,
          1.090951889571379,
          1.7591089844907979,
          0.9358844377861282,
          1.6746291392056212,
          2.271458964598499,
          1.3875807083311222,
          1.285115699385219,
          1.1385760898649475,
          1.2299446224227233,
          2.049072549649739,
          1.1333679109670018,
          0.45255352201897237,
          101.44354,
          0.11382450782742326,
          0.880204170106882,
          0.1790294611252764,
          0.5812814391833303,
          0.6680994795205062,
          0.7361192642061227,
          0.23395729734571546,
          2.1955805141452043,
          3.9302560302396925,
          1.8994785368318876,
          0.913855074265685,
          0.6620287234260909,
          11.277981313243354,
          1.0277542613473531,
          1.1252227885058872,
          2.6456348643096583,
          1.00558781487651,
          0.6042817608845118,
          1.2573392835348052,
          2.3728102230946555,
          2.349552054406586,
          0.6253578923591551,
          0.985225439976261,
          5.090900976768754,
          2.007537086248325,
          0.5101659638291465,
          345.8740533333333,
          4.367281527603894,
          0.3206269196415289,
          0.9107506960692724,
          0.8313144178535898,
          1.4812725148034838,
          1.4678724592179258,
          0.7567557844209214,
          0.5041948954520478,
          3.0574391865417008,
          0.7932276106850145,
          0.8686078949613079,
          2.1759492338351416,
          0.8489427857026303,
          2.8528865512906405,
          1.1809520537956888,
          1.1565233537670545,
          1.8750974552073436,
          2.222575926633904,
          1.0997375322715375,
          0.6311559603891924,
          0.9668756896397058,
          1.3040992462967576,
          0.3565749144634846,
          0.953110150028748,
          3.4430678930014387,
          2.5400585284719344,
          0.8307966805367306,
          4.7416407614827545,
          1.0754207797881392,
          1.6266439886759703,
          1.2788033892670205,
          0.5438198275423717,
          2.3595957938133156,
          1.3628594547693471,
          2.073218297687276,
          0.8529190108530912,
          9.13841831070117,
          0.39031568085665935,
          0.9899557587829165,
          0.5576082988249234,
          7.785169284248964,
          25.039746658970035,
          1.7520135052542236,
          3.3005721886561785,
          0.3573398076295067,
          1.1958313392221922,
          0.8738873640521843,
          1.955837405019145,
          0.8089478228697964,
          1.5992606428492575,
          1.562613579387651,
          1.9667082478999012,
          0.6790903585110218,
          2.020464551329485,
          0.718309091409843,
          1.1172227916255417,
          0.8338600841133335,
          6.975585874226153,
          10.787625680980543,
          1.0291580800349398,
          0.9965423655860597,
          0.9388408582971196,
          1.1108350005486858,
          0.9335666030837402,
          1.9923338765700174,
          1.2377926865459135,
          1.0026256557402258,
          1.2994748651911976,
          1.2279811413397759,
          1.4971397001163498,
          0.9340912387613841,
          0.31009065043135764,
          1.8637416483143667,
          1.1086015344736813,
          0.9271388378388171,
          2.385900297128161,
          32590.43405671278,
          202.03677900937686,
          2901.9028760839947,
          0.3696232803356419,
          0.6862066288812976,
          2.4161772886290374,
          0.5550641408911261,
          0.6477233146535526,
          1.5979637898261865,
          1.1066324032602675,
          0.7196327482130004,
          4.149202540567248,
          0.8799283308110555,
          1.032322610369254,
          0.6761229407653422,
          0.8615173875056502,
          0.7852029857347066,
          2.1654288215996513,
          1.0290749366295862,
          0.7461923910933084,
          0.569959882902993,
          0.8196263382657057,
          0.8221343095429001,
          2.8949289810087597,
          116.12152999999999,
          1.2593189182570932,
          1.467086342645875,
          1.3069915929790838,
          0.1269776165666256,
          1.0900294558054473,
          0.5621145194319995,
          3.1727928332556323,
          1.9875671086223374,
          1.2105200258919937,
          1.5098430815864894,
          1.2669217997110762,
          0.9345602689224013,
          0.8019863783648563,
          0.6031965865766296,
          0.4922921576839454,
          0.4219515539412219,
          0.7399316760940894,
          7.8867741920588825,
          0.7031580674424943,
          3.4037445464029803,
          2.3427799774272833,
          0.5125713152596176,
          0.9519755820135033,
          2.2117422013445114,
          0.424159917678932,
          3.43374432908385,
          1.765893316416087,
          1.5000174560787116,
          1.2913012302481766,
          0.5559167533719611,
          1.3330184914949452,
          1.8332057687163916,
          1.3134531311758861,
          1.527189492577497,
          0.9089274769025005,
          0.9391974679565424,
          0.7093336104615406,
          1.0200921962914582,
          0.23775070339353627,
          0.3085576633075993,
          1.3518582332254407,
          1.4043488465678478,
          0.9091377365329992,
          1.3534580145627702,
          0.9654170646407011,
          1.8043292780873654,
          1.3094534236801456,
          3.3998334860177897,
          4.02431504025379,
          0.5840187867991574,
          0.93363559167289,
          1.9893956894177829,
          1.0897671009695766,
          1.4102300129520637,
          1.5299555642780973,
          1.3029846794447204,
          4.145315181100956,
          2.326110324419263,
          1.16790703067097,
          1.152379754422336,
          4.839668081977274,
          2.1675969227530008,
          0.8321593330384287,
          0.5500211556680595,
          1.5988418101851107,
          1.8676815986001798,
          0.862377454106897,
          0.7517958733194792,
          1.161329925222582,
          0.781571594452299,
          1.5012174218303092,
          1.4695676900620314,
          1.3127257107007688,
          2.7453729332783223,
          1.0255385622162,
          7.021271048339276,
          0.23506694407522363,
          2.6208378865092556,
          1.344586748147062,
          0.4865543307734137,
          1.2365539158838326,
          1.1801226646201477,
          0.9874866543530773,
          0.9438688508824414,
          1.2791959930568961,
          0.37883247055710634,
          0.3717856292912315,
          0.692270587066607,
          0.6686359176848025,
          3.218985848401502,
          1.9648650806040948,
          2.7339255389544523,
          0.45069348443400936,
          4.566726427589036,
          0.7655973678510051,
          0.7355473975133235,
          0.6820741368742743,
          0.5076597388872602,
          0.8704223654643304,
          0.7958918508185477,
          0.994811137775133,
          0.7237586546870058,
          2.4757023260477604,
          0.8037616687175974,
          1.129682074399378,
          0.9675475708662253,
          4.00269822608931,
          1.9326935558651888,
          1.7180222710699193,
          125.18041666666666,
          5.084026044005507,
          1.380493420175475,
          0.7814613754807478,
          62342.25026666667,
          0.4131763102583597,
          0.6591577814076309,
          0.7135088114746099,
          1.008703161697453,
          0.9412849285643867,
          0.5101980297234544,
          0.6337499976326011,
          0.8998857343922537,
          1.4597627542463332,
          1.161732332610706,
          1.9105297440155578,
          2.8328606047068803,
          1.876739438035542,
          0.349925963204901,
          0.901739219577923,
          0.4250836760020012,
          0.7183452401476882,
          0.5996571274064859,
          0.42686315209958037,
          0.7060817177446246,
          0.8806887101770701,
          3.2520646547038066,
          0.5807600633851786,
          1.5124080588567113,
          1.0260020545384316,
          1555.4241499999996,
          0.5265648279603096,
          1.0966550922359528,
          1.0434160242009738,
          0.3156919147079542,
          2.572244475729284,
          4.000422168921209,
          0.3961534197275135,
          1.2593173296239626,
          4.107861891931306,
          1.6692905483486293,
          1.263690886933553,
          1.1136299335590232,
          0.8922940271898966,
          0.4253340535962608,
          1.464361214373909,
          0.6273517477470025,
          0.7777960515142534,
          2.25534581329714
         ],
         "xaxis": "x",
         "y": [
          0.9907940033740711,
          0.724403277309745,
          2.4401213480220605,
          1.6783504461830185,
          0.5825407847696783,
          1.6070550006382929,
          0.7521095959769492,
          1.0072026894036696,
          2.4580579034432897,
          1.690561622699855,
          1.5566296267945279,
          0.9522663358548747,
          1.7097102101846853,
          2.4325423765592835,
          12.021068775410496,
          4.610540906396879,
          1.1383050541617912,
          5.302397208267755,
          0.8098260135834622,
          2.4993051815096425,
          3.093085086064619,
          0.8689079950532209,
          0.9494652221889105,
          1.2884780588230482,
          1.4882435094159538,
          2.4416118997828153,
          0.80259573746263,
          2.929671177103034,
          2.462903703929579,
          0.4442346837452083,
          0.07378674583197285,
          1.2073134490540431,
          3.4939002126538337,
          0.9384652381948947,
          1.5618983464613325,
          56.49056999999999,
          1.2269363972514846,
          0.9224147417000768,
          1.3336891010600234,
          0.715393941304983,
          2.1288661151901596,
          0.5604878170713116,
          1.0667791256985002,
          1.033087206876111,
          0.5429966666666666,
          0.5529984407066516,
          1.7000321590373928,
          1.8542786914548475,
          1.3999829188482478,
          0.5651111861168208,
          0.9806472675872839,
          3.132327420461604,
          1.2377690701486657,
          1.3984980443940827,
          0.6897393579912889,
          1.0582537047390683,
          1.0807656351993689,
          3.971834011661468,
          1.3066745493348388,
          1.3814174996139668,
          0.7904369144406448,
          1.6901591407683207,
          1.3763103986942324,
          3.470714462571185,
          2.3357749241012487,
          1.429253018132432,
          44.3060970761975,
          2.223257975086514,
          14.305786666666666,
          2.6746893332548662,
          1.3137110708049569,
          0.8715833548329435,
          0.850293793406115,
          0.7020626475571198,
          6.069578645251796,
          3.1551607358049916,
          0.5783463020702897,
          0.49834366849206746,
          0.6172004824380111,
          1.3289300854082864,
          0.7186163876149616,
          0.929311768884547,
          1.2357454002921346,
          1.396513498576687,
          2.0553521229185017,
          0.020569313948778395,
          3.559202198645643,
          1.7307502004899864,
          2.672419916274478,
          0.90216577068,
          2.3743390168054606,
          0.9505547939899656,
          1.4452050717875118,
          0.630707038609019,
          0.39008879518957756,
          1.1957226732827968,
          2.9921016947737056,
          2.734775702648452,
          1.2626548762402836,
          0.9834316579085518,
          1.6127828295430628,
          1.246684575331214,
          1.7296701726254922,
          0.9148942183100564,
          2.0882659697203767,
          0.8349526215319645,
          1.9930869185994096,
          0.7972151767348384,
          1.229718978085721,
          0.746231313881929,
          0.9653637559876279,
          1.4940709144670115,
          0.5480111280973616,
          0.750428589583552,
          1.195124934229417,
          1.2725138189501293,
          1.9333957011163154,
          2.6152005037572903,
          1.8537946260350286,
          1.3238229394351022,
          1.3509347924969428,
          1.2118651793423598,
          1.5772413639834026,
          1.425595765574115,
          0.8731455952828625,
          1.0621762363276224,
          1.3871067576296687,
          1.5984788302542026,
          1.6488668465379808,
          0.7894589114456134,
          0.3592008869380274,
          1.9936940057649783,
          0.9808027025783025,
          1.2785432809832178,
          1.157126075165862,
          1.0661087158900047,
          0.8351173818970878,
          1.1913434593870305,
          0.636507531985739,
          2.005943001533879,
          1.7578398834548952,
          5.389285138386896,
          1.0495607633224289,
          0.5017515037891958,
          0.6167535227564955,
          79.17840883652974,
          2.2425163455038555,
          1.1510367367451224,
          0.6649189246452385,
          0.7350920512003388,
          1.1941244560666437,
          1.7449449872181988,
          1.0113384772454603,
          0.9779891488997634,
          3.4387963583601335,
          1.9449951928263316,
          1.1539508407107515,
          1.5740095980346687,
          2.2382565820127827,
          1.4880568256702653,
          1.386396361885059,
          3.0739426194498205,
          3.5056063505461634,
          0.7081206202432614,
          1.0791072405141724,
          3.875387343940739,
          0.8441164280508008,
          0.9141023799613269,
          0.6452248635783019,
          0.5300385437212428,
          0.7111613388349987,
          1.3491152453226833,
          1.8385090788054066,
          0.4496250281340571,
          1.4799086027208561,
          0.733642035112425,
          3.4227690618163247,
          2.4890733118406634,
          0.8901907955564871,
          10.462947179519663,
          1.2335715957894526,
          1.8276303298880605,
          5.344175656928883,
          2.630444715320934,
          1.116529878657642,
          2.347976481290768,
          0.6881425842250403,
          1.0829628072240869,
          3.1804652188609026,
          1.0330373457644901,
          1.498621085833023,
          0.6185507643288601,
          1.2189053194362913,
          1.559109922292328,
          0.587909683555068,
          1.5206175623296567,
          0.6897910860435528,
          0.6239381791070316,
          1.0583509379465474,
          5.841903677334243,
          4.091626500618329,
          9.338390489914731,
          1.0104529736938093,
          1.0946980733532243,
          2.4271896164178806,
          1.80602785335942,
          0,
          1.9400566666666665,
          0.7362528566538785,
          0.417178623272836,
          0.5858628273987275,
          0.7558479718763582,
          2.653911850436843,
          2.645984494321724,
          3.7446275475085664,
          1.639599886526947,
          0.2676745790153789,
          0.2893123338499846,
          0.21948160171710887,
          1.1138901438192914,
          0.37031417547897155,
          1.9624722656672404,
          1.534879351118105,
          0.7257680534563956,
          0.9059558817023482,
          2.1444759426104922,
          1.1175910642505826,
          0.5842602838134497,
          2.184225240077831,
          0.6018804069249142,
          1.148808063593825,
          0.9739289775528724,
          0.3646033273020176,
          0.5761056300704078,
          1.2447540844380403,
          0.2509313674166249,
          0.8243112456032946,
          2.2592368864046004,
          1.267011983407384,
          1.041582796623812,
          0.39540805577480864,
          0.4751492611956653,
          1.2776966560475522,
          3.01826406178145,
          1.1211577532712738,
          2.865058024109197,
          2.2356164237193283,
          1.1031578287799366,
          2.1119223997164815,
          1.674332628237239,
          0.7802462620643291,
          0.8544191415218777,
          1.5266168368833533,
          1.2890071046590972,
          1.8623820730037746,
          1.209330664826498,
          0.9457711602063663,
          95.00488999999999,
          0.8807841775426977,
          1.121546726404451,
          1.0471907222898518,
          0.9278074028013368,
          1.7592544894757343,
          1.1528528113525014,
          0.4362065901960214,
          2.945146305469837,
          2.3715864942193585,
          1.8006874770345744,
          2.04974262789632,
          0.5180679878943669,
          4.287719806948931,
          0.8353506490087007,
          1.0898079933331786,
          3.644887674895952,
          1.2466103604355678,
          0.7282032054714043,
          1.1194588048881997,
          2.3520038005010235,
          3.2732510597392075,
          0.763949451347354,
          0.43845574067407334,
          0.7521043163492979,
          0.5205968180578656,
          0.9891882041290656,
          5.324049999999999,
          4.144957576707034,
          0.6071856051528677,
          0.9948208347894154,
          0.6084927315350624,
          1.0959897686580102,
          1.3453427026484657,
          1.3377569546890857,
          0.6820998781265547,
          2.7154768801577376,
          0.6619539429235137,
          1.1005135514546773,
          1.5662264995054935,
          1.8526133457917746,
          3.3936705845980346,
          1.1567315361714614,
          1.4531929628023617,
          2.7108774707022065,
          2.24923612050633,
          1.0175560641206571,
          0.9062950124840343,
          1.2805115338346569,
          1.6342793075793054,
          0.33607514935286387,
          1.4677908883039479,
          5.558199244159681,
          2.2900029937560586,
          1.1715364009814946,
          2.7984281407786686,
          0.6997911340337764,
          0.7659335236406201,
          0.26965833697663755,
          0.7596123257028758,
          2.507575762690887,
          0.8899555919295252,
          2.811087534009194,
          0.8538037997577069,
          4.85043413898141,
          0.5028717508352298,
          1.3474722967814965,
          0.4651680477282975,
          6.749213006638901,
          0.8486964983852464,
          1.100362412131722,
          3.479578257590803,
          0.6577317654779997,
          1.3339026665651421,
          1.2510171445468896,
          3.5770182634954386,
          1.3068480055892784,
          0.8784543253892817,
          3.345643391547926,
          1.5783939442776125,
          1.1338717772332523,
          3.0882785759892464,
          0.9169906239151198,
          1.8509715168865455,
          1.4401997087561866,
          1.1864476711401948,
          4.20886840996374,
          0.8288503248817165,
          0.888324310968691,
          0.8790046616429673,
          1.5365501895521267,
          2.303141496302689,
          1.2219155951674794,
          1.403445526483267,
          0.5836039007398091,
          2.0079742345586626,
          2.359667387864282,
          4.151472956405575,
          2.035515864075711,
          0.5557804200471119,
          2.6127078606349543,
          1.1974446305634072,
          1.135531102945207,
          2.981857328901402,
          0.3189054848038346,
          0,
          0.10423559619846692,
          0.5428224221411817,
          0.8084941845304248,
          2.5963740336927,
          1.414201410624858,
          1.3974626784326243,
          1.4023944820264285,
          1.29142398002229,
          0.3952911211591998,
          4.134779140247448,
          0.9946061962013861,
          0.9932651204537079,
          0.7877560205859637,
          1.0203727518679704,
          1.0321719770368742,
          2.274412259696612,
          1.2774740507749898,
          1.1908246623699428,
          1.3428546897411695,
          0.7555036926299199,
          1.0103258364254815,
          1.411376707356179,
          8.810806666666666,
          1.769897728034908,
          0.40883889491758635,
          0.8977051931946257,
          0.2581968011789661,
          1.826586832797363,
          0.553332876271631,
          2.452195937493609,
          1.6361023253845022,
          1.5388237990201818,
          0.8638359872313094,
          1.157788395636664,
          1.0215386405967806,
          2.026518932888553,
          1.6102080687367542,
          0.7983787454562555,
          0.369315051197676,
          1.2228622954433759,
          5.1158471434046415,
          0.8259685488397,
          4.687540812716402,
          2.573789115064931,
          0.6126856254067036,
          1.0050973337492362,
          3.831992291791032,
          0.794106871195955,
          2.8529963625953885,
          2.845538886417784,
          1.9919250168296483,
          2.0467023610899906,
          1.2724881993299035,
          2.1163718551847275,
          3.084965649946716,
          1.466676010722856,
          1.1151574504060549,
          0.8823147223688822,
          0.8327905345484699,
          0.8651644124791923,
          1.1852835339920211,
          0.7274816925576221,
          0.9782222821151719,
          2.92985503848256,
          0.8555152055745019,
          0.4332321554860196,
          1.7086072569069592,
          1.6724403982298983,
          3.2694655612476424,
          2.1792249406552546,
          4.223917775714807,
          3.265681768943916,
          0.7679558456931586,
          0.9611271434263221,
          2.0160403496923447,
          1.1518712030373055,
          1.3045267697823042,
          1.6663917870236717,
          1.1528880275891888,
          3.0941192411255387,
          2.0220527890380757,
          1.2489516534585432,
          1.0724044624001867,
          4.291487007476427,
          1.2138840590594744,
          1.225595079380809,
          0.7517689991516942,
          1.8280270749855583,
          1.544766734305251,
          0.9651684863193531,
          0.761607059061038,
          1.3469281394170807,
          0.9390826543654442,
          1.6055243610534375,
          1.1244989107761643,
          0.9512412803960106,
          1.538805712253637,
          0.3306945494068587,
          17.937364843177896,
          0.4188785302136475,
          2.4705807513531988,
          1.2286914126795327,
          0.6038625177733988,
          1.6993254010324763,
          2.1199641394598117,
          1.5520712529110006,
          2.196197802166124,
          0.9561366621395856,
          0.6209751418071557,
          0.41195634087879296,
          0.91978381506367,
          0.7510233032047593,
          2.7120310369720415,
          3.1216036886596146,
          1.4329765757796284,
          0.782403485041029,
          4.227521977594382,
          0.874111982992243,
          0.6633503091649738,
          1.6187511610786964,
          0.5331814751805117,
          0.744185906682446,
          0.5341410115683833,
          0.6355950647017565,
          0.6862664044573392,
          1.6488971659016414,
          0.6709827953998974,
          0.756025615780613,
          0.9512067905957717,
          3.798361487473363,
          1.0025124688215041,
          1.7563883654277144,
          56.466723333333334,
          2.14975660717594,
          1.137526366059452,
          0.976395164316126,
          3.5562300000000002,
          0.6608895853768457,
          1.4049805986022632,
          1.1984737433890955,
          1.1768476917785924,
          1.4336250877954595,
          0.6970273324414356,
          0.41681937170459366,
          0.9670666287474251,
          0.9038453758456306,
          0.8429462601366288,
          1.0019734738134098,
          2.3268657549388925,
          1.32537898081183,
          0.18473295785788002,
          0.3088843034742518,
          0.5608433113396887,
          1.7163789237879632,
          2.634821581160987,
          0.7188908148827309,
          0.7734709701810686,
          0.8368750226367232,
          3.4094694810247583,
          0.5293033398400282,
          1.5409951597221676,
          1.0356182186065512,
          0,
          1.6768307078863027,
          2.1259440693262435,
          2.168164647053536,
          0.2993752110377123,
          1.4289578123439581,
          1.5118682832965826,
          1.2980143986805557,
          1.3104465281822657,
          4.597733159967796,
          0.8440371389389668,
          0.9518375666292718,
          2.5121157647455346,
          2.405409323648928,
          1.4051979627614615,
          2.997622347471468,
          1.8002333560135793,
          1.1461082950075812,
          3.943172558376463
         ],
         "yaxis": "y"
        }
       ],
       "layout": {
        "height": 800,
        "legend": {
         "tracegroupgap": 0
        },
        "margin": {
         "t": 60
        },
        "template": {
         "data": {
          "bar": [
           {
            "error_x": {
             "color": "#2a3f5f"
            },
            "error_y": {
             "color": "#2a3f5f"
            },
            "marker": {
             "line": {
              "color": "#E5ECF6",
              "width": 0.5
             }
            },
            "type": "bar"
           }
          ],
          "barpolar": [
           {
            "marker": {
             "line": {
              "color": "#E5ECF6",
              "width": 0.5
             }
            },
            "type": "barpolar"
           }
          ],
          "carpet": [
           {
            "aaxis": {
             "endlinecolor": "#2a3f5f",
             "gridcolor": "white",
             "linecolor": "white",
             "minorgridcolor": "white",
             "startlinecolor": "#2a3f5f"
            },
            "baxis": {
             "endlinecolor": "#2a3f5f",
             "gridcolor": "white",
             "linecolor": "white",
             "minorgridcolor": "white",
             "startlinecolor": "#2a3f5f"
            },
            "type": "carpet"
           }
          ],
          "choropleth": [
           {
            "colorbar": {
             "outlinewidth": 0,
             "ticks": ""
            },
            "type": "choropleth"
           }
          ],
          "contour": [
           {
            "colorbar": {
             "outlinewidth": 0,
             "ticks": ""
            },
            "colorscale": [
             [
              0,
              "#0d0887"
             ],
             [
              0.1111111111111111,
              "#46039f"
             ],
             [
              0.2222222222222222,
              "#7201a8"
             ],
             [
              0.3333333333333333,
              "#9c179e"
             ],
             [
              0.4444444444444444,
              "#bd3786"
             ],
             [
              0.5555555555555556,
              "#d8576b"
             ],
             [
              0.6666666666666666,
              "#ed7953"
             ],
             [
              0.7777777777777778,
              "#fb9f3a"
             ],
             [
              0.8888888888888888,
              "#fdca26"
             ],
             [
              1,
              "#f0f921"
             ]
            ],
            "type": "contour"
           }
          ],
          "contourcarpet": [
           {
            "colorbar": {
             "outlinewidth": 0,
             "ticks": ""
            },
            "type": "contourcarpet"
           }
          ],
          "heatmap": [
           {
            "colorbar": {
             "outlinewidth": 0,
             "ticks": ""
            },
            "colorscale": [
             [
              0,
              "#0d0887"
             ],
             [
              0.1111111111111111,
              "#46039f"
             ],
             [
              0.2222222222222222,
              "#7201a8"
             ],
             [
              0.3333333333333333,
              "#9c179e"
             ],
             [
              0.4444444444444444,
              "#bd3786"
             ],
             [
              0.5555555555555556,
              "#d8576b"
             ],
             [
              0.6666666666666666,
              "#ed7953"
             ],
             [
              0.7777777777777778,
              "#fb9f3a"
             ],
             [
              0.8888888888888888,
              "#fdca26"
             ],
             [
              1,
              "#f0f921"
             ]
            ],
            "type": "heatmap"
           }
          ],
          "heatmapgl": [
           {
            "colorbar": {
             "outlinewidth": 0,
             "ticks": ""
            },
            "colorscale": [
             [
              0,
              "#0d0887"
             ],
             [
              0.1111111111111111,
              "#46039f"
             ],
             [
              0.2222222222222222,
              "#7201a8"
             ],
             [
              0.3333333333333333,
              "#9c179e"
             ],
             [
              0.4444444444444444,
              "#bd3786"
             ],
             [
              0.5555555555555556,
              "#d8576b"
             ],
             [
              0.6666666666666666,
              "#ed7953"
             ],
             [
              0.7777777777777778,
              "#fb9f3a"
             ],
             [
              0.8888888888888888,
              "#fdca26"
             ],
             [
              1,
              "#f0f921"
             ]
            ],
            "type": "heatmapgl"
           }
          ],
          "histogram": [
           {
            "marker": {
             "colorbar": {
              "outlinewidth": 0,
              "ticks": ""
             }
            },
            "type": "histogram"
           }
          ],
          "histogram2d": [
           {
            "colorbar": {
             "outlinewidth": 0,
             "ticks": ""
            },
            "colorscale": [
             [
              0,
              "#0d0887"
             ],
             [
              0.1111111111111111,
              "#46039f"
             ],
             [
              0.2222222222222222,
              "#7201a8"
             ],
             [
              0.3333333333333333,
              "#9c179e"
             ],
             [
              0.4444444444444444,
              "#bd3786"
             ],
             [
              0.5555555555555556,
              "#d8576b"
             ],
             [
              0.6666666666666666,
              "#ed7953"
             ],
             [
              0.7777777777777778,
              "#fb9f3a"
             ],
             [
              0.8888888888888888,
              "#fdca26"
             ],
             [
              1,
              "#f0f921"
             ]
            ],
            "type": "histogram2d"
           }
          ],
          "histogram2dcontour": [
           {
            "colorbar": {
             "outlinewidth": 0,
             "ticks": ""
            },
            "colorscale": [
             [
              0,
              "#0d0887"
             ],
             [
              0.1111111111111111,
              "#46039f"
             ],
             [
              0.2222222222222222,
              "#7201a8"
             ],
             [
              0.3333333333333333,
              "#9c179e"
             ],
             [
              0.4444444444444444,
              "#bd3786"
             ],
             [
              0.5555555555555556,
              "#d8576b"
             ],
             [
              0.6666666666666666,
              "#ed7953"
             ],
             [
              0.7777777777777778,
              "#fb9f3a"
             ],
             [
              0.8888888888888888,
              "#fdca26"
             ],
             [
              1,
              "#f0f921"
             ]
            ],
            "type": "histogram2dcontour"
           }
          ],
          "mesh3d": [
           {
            "colorbar": {
             "outlinewidth": 0,
             "ticks": ""
            },
            "type": "mesh3d"
           }
          ],
          "parcoords": [
           {
            "line": {
             "colorbar": {
              "outlinewidth": 0,
              "ticks": ""
             }
            },
            "type": "parcoords"
           }
          ],
          "pie": [
           {
            "automargin": true,
            "type": "pie"
           }
          ],
          "scatter": [
           {
            "marker": {
             "colorbar": {
              "outlinewidth": 0,
              "ticks": ""
             }
            },
            "type": "scatter"
           }
          ],
          "scatter3d": [
           {
            "line": {
             "colorbar": {
              "outlinewidth": 0,
              "ticks": ""
             }
            },
            "marker": {
             "colorbar": {
              "outlinewidth": 0,
              "ticks": ""
             }
            },
            "type": "scatter3d"
           }
          ],
          "scattercarpet": [
           {
            "marker": {
             "colorbar": {
              "outlinewidth": 0,
              "ticks": ""
             }
            },
            "type": "scattercarpet"
           }
          ],
          "scattergeo": [
           {
            "marker": {
             "colorbar": {
              "outlinewidth": 0,
              "ticks": ""
             }
            },
            "type": "scattergeo"
           }
          ],
          "scattergl": [
           {
            "marker": {
             "colorbar": {
              "outlinewidth": 0,
              "ticks": ""
             }
            },
            "type": "scattergl"
           }
          ],
          "scattermapbox": [
           {
            "marker": {
             "colorbar": {
              "outlinewidth": 0,
              "ticks": ""
             }
            },
            "type": "scattermapbox"
           }
          ],
          "scatterpolar": [
           {
            "marker": {
             "colorbar": {
              "outlinewidth": 0,
              "ticks": ""
             }
            },
            "type": "scatterpolar"
           }
          ],
          "scatterpolargl": [
           {
            "marker": {
             "colorbar": {
              "outlinewidth": 0,
              "ticks": ""
             }
            },
            "type": "scatterpolargl"
           }
          ],
          "scatterternary": [
           {
            "marker": {
             "colorbar": {
              "outlinewidth": 0,
              "ticks": ""
             }
            },
            "type": "scatterternary"
           }
          ],
          "surface": [
           {
            "colorbar": {
             "outlinewidth": 0,
             "ticks": ""
            },
            "colorscale": [
             [
              0,
              "#0d0887"
             ],
             [
              0.1111111111111111,
              "#46039f"
             ],
             [
              0.2222222222222222,
              "#7201a8"
             ],
             [
              0.3333333333333333,
              "#9c179e"
             ],
             [
              0.4444444444444444,
              "#bd3786"
             ],
             [
              0.5555555555555556,
              "#d8576b"
             ],
             [
              0.6666666666666666,
              "#ed7953"
             ],
             [
              0.7777777777777778,
              "#fb9f3a"
             ],
             [
              0.8888888888888888,
              "#fdca26"
             ],
             [
              1,
              "#f0f921"
             ]
            ],
            "type": "surface"
           }
          ],
          "table": [
           {
            "cells": {
             "fill": {
              "color": "#EBF0F8"
             },
             "line": {
              "color": "white"
             }
            },
            "header": {
             "fill": {
              "color": "#C8D4E3"
             },
             "line": {
              "color": "white"
             }
            },
            "type": "table"
           }
          ]
         },
         "layout": {
          "annotationdefaults": {
           "arrowcolor": "#2a3f5f",
           "arrowhead": 0,
           "arrowwidth": 1
          },
          "autotypenumbers": "strict",
          "coloraxis": {
           "colorbar": {
            "outlinewidth": 0,
            "ticks": ""
           }
          },
          "colorscale": {
           "diverging": [
            [
             0,
             "#8e0152"
            ],
            [
             0.1,
             "#c51b7d"
            ],
            [
             0.2,
             "#de77ae"
            ],
            [
             0.3,
             "#f1b6da"
            ],
            [
             0.4,
             "#fde0ef"
            ],
            [
             0.5,
             "#f7f7f7"
            ],
            [
             0.6,
             "#e6f5d0"
            ],
            [
             0.7,
             "#b8e186"
            ],
            [
             0.8,
             "#7fbc41"
            ],
            [
             0.9,
             "#4d9221"
            ],
            [
             1,
             "#276419"
            ]
           ],
           "sequential": [
            [
             0,
             "#0d0887"
            ],
            [
             0.1111111111111111,
             "#46039f"
            ],
            [
             0.2222222222222222,
             "#7201a8"
            ],
            [
             0.3333333333333333,
             "#9c179e"
            ],
            [
             0.4444444444444444,
             "#bd3786"
            ],
            [
             0.5555555555555556,
             "#d8576b"
            ],
            [
             0.6666666666666666,
             "#ed7953"
            ],
            [
             0.7777777777777778,
             "#fb9f3a"
            ],
            [
             0.8888888888888888,
             "#fdca26"
            ],
            [
             1,
             "#f0f921"
            ]
           ],
           "sequentialminus": [
            [
             0,
             "#0d0887"
            ],
            [
             0.1111111111111111,
             "#46039f"
            ],
            [
             0.2222222222222222,
             "#7201a8"
            ],
            [
             0.3333333333333333,
             "#9c179e"
            ],
            [
             0.4444444444444444,
             "#bd3786"
            ],
            [
             0.5555555555555556,
             "#d8576b"
            ],
            [
             0.6666666666666666,
             "#ed7953"
            ],
            [
             0.7777777777777778,
             "#fb9f3a"
            ],
            [
             0.8888888888888888,
             "#fdca26"
            ],
            [
             1,
             "#f0f921"
            ]
           ]
          },
          "colorway": [
           "#636efa",
           "#EF553B",
           "#00cc96",
           "#ab63fa",
           "#FFA15A",
           "#19d3f3",
           "#FF6692",
           "#B6E880",
           "#FF97FF",
           "#FECB52"
          ],
          "font": {
           "color": "#2a3f5f"
          },
          "geo": {
           "bgcolor": "white",
           "lakecolor": "white",
           "landcolor": "#E5ECF6",
           "showlakes": true,
           "showland": true,
           "subunitcolor": "white"
          },
          "hoverlabel": {
           "align": "left"
          },
          "hovermode": "closest",
          "mapbox": {
           "style": "light"
          },
          "paper_bgcolor": "white",
          "plot_bgcolor": "#E5ECF6",
          "polar": {
           "angularaxis": {
            "gridcolor": "white",
            "linecolor": "white",
            "ticks": ""
           },
           "bgcolor": "#E5ECF6",
           "radialaxis": {
            "gridcolor": "white",
            "linecolor": "white",
            "ticks": ""
           }
          },
          "scene": {
           "xaxis": {
            "backgroundcolor": "#E5ECF6",
            "gridcolor": "white",
            "gridwidth": 2,
            "linecolor": "white",
            "showbackground": true,
            "ticks": "",
            "zerolinecolor": "white"
           },
           "yaxis": {
            "backgroundcolor": "#E5ECF6",
            "gridcolor": "white",
            "gridwidth": 2,
            "linecolor": "white",
            "showbackground": true,
            "ticks": "",
            "zerolinecolor": "white"
           },
           "zaxis": {
            "backgroundcolor": "#E5ECF6",
            "gridcolor": "white",
            "gridwidth": 2,
            "linecolor": "white",
            "showbackground": true,
            "ticks": "",
            "zerolinecolor": "white"
           }
          },
          "shapedefaults": {
           "line": {
            "color": "#2a3f5f"
           }
          },
          "ternary": {
           "aaxis": {
            "gridcolor": "white",
            "linecolor": "white",
            "ticks": ""
           },
           "baxis": {
            "gridcolor": "white",
            "linecolor": "white",
            "ticks": ""
           },
           "bgcolor": "#E5ECF6",
           "caxis": {
            "gridcolor": "white",
            "linecolor": "white",
            "ticks": ""
           }
          },
          "title": {
           "x": 0.05
          },
          "xaxis": {
           "automargin": true,
           "gridcolor": "white",
           "linecolor": "white",
           "ticks": "",
           "title": {
            "standoff": 15
           },
           "zerolinecolor": "white",
           "zerolinewidth": 2
          },
          "yaxis": {
           "automargin": true,
           "gridcolor": "white",
           "linecolor": "white",
           "ticks": "",
           "title": {
            "standoff": 15
           },
           "zerolinecolor": "white",
           "zerolinewidth": 2
          }
         }
        },
        "width": 1000,
        "xaxis": {
         "anchor": "y",
         "autorange": true,
         "domain": [
          0,
          1
         ],
         "range": [
          -1.2945170728765385,
          5.145535328233309
         ],
         "title": {
          "text": "Trated vs Aged"
         },
         "type": "log"
        },
        "yaxis": {
         "anchor": "x",
         "autorange": true,
         "domain": [
          0,
          1
         ],
         "range": [
          -1.916398839539154,
          2.2073646058410303
         ],
         "title": {
          "text": "Young vs Aged"
         },
         "type": "log"
        }
       }
      },
      "image/png": "[encoded data removed]",
      "text/html": [
       "<div>                            <div id=\"0560aa95-041c-4a56-a20b-5c1c95a718cd\" class=\"plotly-graph-div\" style=\"height:800px; width:1000px;\"></div>            <script type=\"text/javascript\">                require([\"plotly\"], function(Plotly) {                    window.PLOTLYENV=window.PLOTLYENV || {};                                    if (document.getElementById(\"0560aa95-041c-4a56-a20b-5c1c95a718cd\")) {                    Plotly.newPlot(                        \"0560aa95-041c-4a56-a20b-5c1c95a718cd\",                        [{\"customdata\": [[\"GTF3A\"], [\"HMGB1\"], [\"HMGB1\"], [\"HMGB1\"], [\"PRNP\"], [\"TSC22D1\"], [\"RCAN1\"], [\"RBBP7\"], [\"RBBP7\"], [\"TRIM13\"], [\"MPG\"], [\"XBP1\"], [\"XBP1\"], [\"XBP1\"], [\"EWSR1\"], [\"EWSR1\"], [\"COMMD6\"], [\"COMMD6\"], [\"ID1\"], [\"POLR2E\"], [\"BAG1\"], [\"COMMD7\"], [\"DDX3X\"], [\"TADA3\"], [\"TADA3\"], [\"TWIST1\"], [\"ID2\"], [\"PRMT2\"], [\"PRMT2\"], [\"IL6\"], [\"IL6\"], [\"CUL4A\"], [\"SNURF\"], [\"CUL2\"], [\"H1-0\"], [\"TRIM22\"], [\"TRIM22\"], [\"DVL1\"], [\"TAX1BP1\"], [\"TAX1BP1\"], [\"TOX4\"], [\"ZFAND5\"], [\"AFAP1\"], [\"ATF4\"], [\"POU5F1\"], [\"CLU\"], [\"HNRNPK\"], [\"HNRNPK\"], [\"HNRNPK\"], [\"HNRNPK\"], [\"TOP2B\"], [\"PABPN1\"], [\"PABPN1\"], [\"DNAJA3\"], [\"NRG1\"], [\"UBP1\"], [\"NONO\"], [\"PARK7\"], [\"PARK7\"], [\"PARK7\"], [\"PARK7\"], [\"KEAP1\"], [\"ENO1\"], [\"PLXNB2\"], [\"CTNNBIP1\"], [\"LRRFIP2\"], [\"TARDBP\"], [\"TARDBP\"], [\"KLF4\"], [\"HMGA1\"], [\"HMGA1\"], [\"POLE3\"], [\"SNRPC\"], [\"TCEAL8\"], [\"TCEAL8\"], [\"TCEAL1\"], [\"TSC22D3\"], [\"PSMD10\"], [\"CDKN1A\"], [\"PHF19\"], [\"COPS2\"], [\"UBB\"], [\"COMMD1\"], [\"RECQL\"], [\"HIF1A\"], [\"LIN28A\"], [\"HNRNPD\"], [\"HNRNPD\"], [\"HNRNPDL\"], [\"ANXA4\"], [\"MAX\"], [\"BOLA2B\"], [\"GTF2A2\"], [\"GTF2A2\"], [\"GTF2A2\"], [\"UBA52\"], [\"FUS\"], [\"PYCARD\"], [\"BOLA3\"], [\"FLNA\"], [\"FLNA\"], [\"FLNA\"], [\"FLNA\"], [\"DDB1\"], [\"BRD7\"], [\"PLXNA3\"], [\"JDP2\"], [\"KCMF1\"], [\"HMGN3\"], [\"HMGN3\"], [\"MACF1\"], [\"BUD31\"], [\"BUD31\"], [\"ZNF207\"], [\"ZNF207\"], [\"PSMD11\"], [\"EDF1\"], [\"EDF1\"], [\"LARP6\"], [\"YBX1\"], [\"YBX1\"], [\"POLR2J\"], [\"SIRT2\"], [\"PCBP2\"], [\"CGGBP1\"], [\"SMUG1\"], [\"HNRNPA1\"], [\"HDAC2\"], [\"SMARCE1\"], [\"FHL2\"], [\"FHL2\"], [\"FHL2\"], [\"FHL2\"], [\"FHL2\"], [\"DRAP1\"], [\"BANF1\"], [\"RNF14\"], [\"RNF41\"], [\"TBPL1\"], [\"SGK1\"], [\"DDIT3\"], [\"HMGA2\"], [\"PLXNA1\"], [\"ZRANB2\"], [\"CNBP\"], [\"CNBP\"], [\"NFE2L1\"], [\"NFE2L1\"], [\"MTPN\"], [\"NR2F2\"], [\"FUBP1\"], [\"NPM1\"], [\"NPM1\"], [\"LMO4\"], [\"HMGB2\"], [\"HMGB2\"], [\"DR1\"], [\"NME2\"], [\"NME2\"], [\"HNRNPA3\"], [\"HNRNPA3\"], [\"HNRNPA3\"], [\"HNRNPA3\"], [\"NFE2L2\"], [\"ERVK3-1\"], [\"ERVK3-1\"], [\"CSDE1\"], [\"CSDE1\"], [\"PSMC5\"], [\"STAT1\"], [\"STAT1\"], [\"SUMO1\"], [\"SUMO1\"], [\"SUMO1\"], [\"SPHK1\"], [\"CENPX\"], [\"IFI16\"], [\"STK16\"], [\"DDR2\"], [\"SP100\"], [\"LRRFIP1\"], [\"HNRNPU\"], [\"HMGB1\"], [\"HMGB1\"], [\"MAPK1\"], [\"MPG\"], [\"HMGN1\"], [\"EWSR1\"], [\"COMMD6\"], [\"DEK\"], [\"CNOT7\"], [\"CNOT7\"], [\"CREB3\"], [\"ID2\"], [\"CTBP1\"], [\"PRMT2\"], [\"GAS6\"], [\"MXD4\"], [\"ZFAND5\"], [\"ZFR\"], [\"SUB1\"], [\"SUB1\"], [\"SUB1\"], [\"SUB1\"], [\"SUB1\"], [\"SUB1\"], [\"POU5F1\"], [\"POU5F1\"], [\"CLU\"], [\"CLU\"], [\"CLU\"], [\"CLU\"], [\"FAM200B\"], [\"HNRNPK\"], [\"HNRNPK\"], [\"HNRNPK\"], [\"NRG1\"], [\"NRG1\"], [\"NRG1\"], [\"NONO\"], [\"NONO\"], [\"CAMTA1\"], [\"PARK7\"], [\"PARK7\"], [\"PARK7\"], [\"ENO1\"], [\"ENO1\"], [\"UBE2K\"], [\"UBE2K\"], [\"UBE2K\"], [\"PLXNB2\"], [\"SLC30A9\"], [\"KLF4\"], [\"KLF4\"], [\"HMGA1\"], [\"CTNNB1\"], [\"SNRPC\"], [\"TAF9\"], [\"CDKN1A\"], [\"HP1BP3\"], [\"ID3\"], [\"ID3\"], [\"COMMD1\"], [\"VEGFA\"], [\"VEGFA\"], [\"HNRNPD\"], [\"HNRNPD\"], [\"HNRNPDL\"], [\"HNRNPDL\"], [\"ANXA4\"], [\"ANXA4\"], [\"GTF2A2\"], [\"RBM5\"], [\"FUS\"], [\"MTDH\"], [\"RIOK2\"], [\"ZNF706\"], [\"ZNF706\"], [\"FLNA\"], [\"FLNA\"], [\"FLNA\"], [\"FLNA\"], [\"FLNA\"], [\"FLNA\"], [\"FLNA\"], [\"FLNA\"], [\"FLNA\"], [\"SFPQ\"], [\"SFPQ\"], [\"SFPQ\"], [\"PLXNA3\"], [\"PLXNA3\"], [\"PLXNA3\"], [\"POLE4\"], [\"POLE4\"], [\"SF3A3\"], [\"SF3A3\"], [\"MYCBP\"], [\"BUD31\"], [\"BUD31\"], [\"WNT5A\"], [\"WNT5A\"], [\"WNT5A\"], [\"PSMD11\"], [\"MYC\"], [\"YBX1\"], [\"MATR3\"], [\"MATR3\"], [\"MATR3\"], [\"CXXC5\"], [\"PFDN1\"], [\"PFDN1\"], [\"HDAC2\"], [\"HDAC2\"], [\"HBP1\"], [\"ZMAT2\"], [\"ZMAT2\"], [\"ZNF511\"], [\"GOLGB1\"], [\"ZNF330\"], [\"CNBP\"], [\"CNBP\"], [\"CNBP\"], [\"CNBP\"], [\"PLXND1\"], [\"PLXND1\"], [\"NPM1\"], [\"PHB\"], [\"LMO4\"], [\"HNRNPAB\"], [\"HNRNPAB\"], [\"HNRNPAB\"], [\"SSB\"], [\"TAF13\"], [\"ZIC1\"], [\"MBNL1\"], [\"NME2\"], [\"NME2\"], [\"NME2\"], [\"CSDE1\"], [\"CSDE1\"], [\"ZC3H15\"], [\"RNF25\"], [\"USF1\"], [\"PRRX1\"], [\"NUCKS1\"], [\"CDKN2A\"], [\"CDKN2A\"], [\"CDKN2A\"], [\"POLR2E\"], [\"POLR2E\"], [\"POLR2L\"], [\"APEX1\"], [\"APEX1\"], [\"APEX1\"], [\"APEX1\"], [\"CNOT7\"], [\"TLE5\"], [\"TLE5\"], [\"TLE5\"], [\"TAF10\"], [\"TAF10\"], [\"CLU\"], [\"GREM1\"], [\"GREM1\"], [\"PABPN1\"], [\"TEAD1\"], [\"PIN1\"], [\"CARHSP1\"], [\"CAMTA2\"], [\"SMAD2\"], [\"SMAD2\"], [\"C17orf49\"], [\"C17orf49\"], [\"MBD2\"], [\"MBD2\"], [\"PSMA6\"], [\"PSMA6\"], [\"PSMA6\"], [\"PSMA6\"], [\"PHB2\"], [\"NANOG\"], [\"NANOG\"], [\"NANOG\"], [\"YBX3\"], [\"YBX3\"], [\"YBX3\"], [\"FBN1\"], [\"FBN1\"], [\"EID1\"], [\"COPS2\"], [\"COPS2\"], [\"UBB\"], [\"UBB\"], [\"UBB\"], [\"UBB\"], [\"UBB\"], [\"EIF3C\"], [\"EIF3C\"], [\"EIF3C\"], [\"EIF3C\"], [\"EIF3C\"], [\"MNAT1\"], [\"MNAT1\"], [\"HIF1A\"], [\"HIF1A\"], [\"HIF1A\"], [\"HIF1A\"], [\"HIF1A\"], [\"HIF1A\"], [\"MAZ\"], [\"MAZ\"], [\"CHURC1\"], [\"BOLA2B\"], [\"GTF2A2\"], [\"GTF2A2\"], [\"UBA52\"], [\"UBA52\"], [\"FUS\"], [\"FUS\"], [\"RFXANK\"], [\"TRAF4\"], [\"SNW1\"], [\"SNW1\"], [\"CERS5\"], [\"EIF3K\"], [\"EIF3K\"], [\"EIF3K\"], [\"EIF3K\"], [\"PCBP2\"], [\"PCBP2\"], [\"PCBP2\"], [\"HNRNPA1\"], [\"HNRNPA1\"], [\"HNRNPA1\"], [\"HNRNPA1\"], [\"HNRNPA1\"], [\"HNRNPA1\"], [\"HNRNPA1\"], [\"PFDN1\"], [\"DRAP1\"], [\"DRAP1\"], [\"DRAP1\"], [\"DRAP1\"], [\"BANF1\"], [\"BANF1\"], [\"BANF1\"], [\"PA2G4\"], [\"RNF41\"], [\"CTBP2\"], [\"STAT2\"], [\"SIVA1\"], [\"SIVA1\"], [\"AKT1\"], [\"DDIT3\"], [\"BCLAF1\"], [\"BCLAF1\"], [\"IQGAP1\"], [\"IQGAP1\"], [\"HSBP1\"], [\"HSBP1\"], [\"MDM2\"], [\"CDK5RAP3\"], [\"HOXB2\"], [\"NPM1\"], [\"NPM1\"], [\"TCF25\"], [\"PAWR\"], [\"UBE2N\"], [\"UBE2N\"], [\"UBE2N\"], [\"UBE2N\"], [\"NME2\"], [\"NME2\"], [\"SUPT4H1\"], [\"SUPT4H1\"], [\"SUPT4H1\"], [\"CSDE1\"], [\"CSDE1\"], [\"CSDE1\"], [\"CSDE1\"], [\"TRIM28\"], [\"PSMC5\"], [\"PSMC5\"], [\"PSMC5\"], [\"PSMC5\"], [\"PSMC5\"], [\"PSMC5\"], [\"PSMC5\"], [\"DDX5\"], [\"DDX5\"], [\"DDX5\"], [\"DDX5\"], [\"DDX5\"], [\"DDX5\"], [\"DDX5\"], [\"PSMD12\"], [\"PSMD12\"], [\"CERS2\"], [\"SPHK1\"], [\"UBC\"], [\"UBC\"], [\"UBC\"], [\"UBC\"], [\"UBC\"], [\"UBC\"], [\"UBC\"], [\"UBC\"], [\"UBC\"], [\"UBC\"], [\"UBC\"], [\"CENPX\"], [\"CENPX\"], [\"RBCK1\"], [\"POLR2E\"], [\"DDX3X\"], [\"CNOT7\"], [\"GAS6\"], [\"GAS6\"], [\"POU5F1\"], [\"ENO1\"], [\"ENO1\"], [\"ENO1\"], [\"ENO1\"], [\"ENO1\"], [\"ENO1\"], [\"RNF114\"], [\"TARDBP\"], [\"TARDBP\"], [\"CTNNB1\"], [\"CTNNB1\"], [\"CTNNB1\"], [\"CTNNB1\"], [\"CTNNB1\"], [\"SNAI2\"], [\"DDB2\"], [\"HNRNPDL\"], [\"JUND\"], [\"SSBP4\"], [\"UBA52\"], [\"UBA52\"], [\"UBA52\"], [\"UBA52\"], [\"UBA52\"], [\"UBA52\"], [\"POU5F1B\"], [\"HNRNPL\"], [\"SUPT5H\"], [\"ZNF428\"], [\"CIB1\"], [\"GADD45A\"], [\"ZRANB2\"], [\"CITED2\"], [\"CHD2\"], [\"IRF3\"], [\"ATF5\"], [\"ZBTB38\"], [\"TRIM28\"], [\"TRIM28\"], [\"TRIM28\"], [\"TRIM28\"], [\"TRIM28\"], [\"ZC3H11A\"], [\"HNRNPU\"]], \"hovertemplate\": \"Trated vs Aged=%{x}<br>Young vs Aged=%{y}<br>gene=%{customdata[0]}<extra></extra>\", \"legendgroup\": \"\", \"marker\": {\"color\": \"#636efa\", \"symbol\": \"circle\"}, \"mode\": \"markers\", \"name\": \"\", \"orientation\": \"v\", \"showlegend\": false, \"type\": \"scatter\", \"x\": [0.7383851234053568, 0.5041025857794071, 1.0745879308743393, 1.0971043363776145, 0.6962373672350509, 2.2155053558235736, 0.8031308285645937, 0.7120555050106343, 1.8203807401023726, 1.8474677405639515, 1.0638318578086994, 0.6564726100699062, 1.6282604590362202, 4.073836065438253, 5.064623194704498, 1.809437740478304, 1.3666261823297952, 5.50519477783503, 1.451041538272725, 1.3404246214254358, 2.0540553519187457, 0.3794488489611321, 1.0160573609824923, 0.6179067791377427, 0.8786303634289052, 0.6819899480812859, 0.9518025074302486, 3.457614174925, 2.421713733104926, 1.3369139372311576, 0.3606745162307261, 0.6957967679593601, 6.886730899750771, 0.9550290633793045, 0.6316510968628524, 118.32731333333332, 1.7668588517098096, 0.6983033634936859, 2.1204545448348733, 0.8106707684092539, 1.2910882111470063, 0.6432191341879289, 0.9366189242010795, 0.5836548501968658, 3988.0049266666665, 2.2926576401657734, 1.3021586899447148, 1.1678794646046509, 1.1927730163402441, 0.6821400362585918, 0.4485629853067361, 1.6574982390762096, 1.0756447351759217, 1.1555777576287767, 1.179901959950736, 0.8582644726266708, 0.4113683488632448, 3.538444318596864, 1.1681751433527325, 0.7079151427110231, 0.5477909956743555, 0.9283665808545619, 0.7222543059330064, 2.546600493365246, 2.7275776006017387, 0.9649781532223755, 54.23921261980753, 1.2354991325616551, 38334.605286666665, 1.994901996164102, 0.8669876157787009, 0.5639142629330409, 0.31584775180240177, 0.7722698636849744, 17.47020241060437, 5.345782703020374, 0.9887801520988635, 0.7551473913102065, 1.3702696905298826, 0.6113550766752548, 0.7623841095899849, 1.0221987529775862, 1.7847742179851713, 2.439772082075855, 3.4314649308195757, 1010.3043151325712, 1.167586759515089, 0.6232470892732052, 2.4023885495590656, 1.1253874392911765, 1.8591717605190734, 1.025085952992244, 1.6720871050509134, 0.5999968429062279, 0.5905185245250726, 1.22047914580754, 1.1443830762126013, 1.265301567728996, 1.2465639682925724, 0.5189535224428633, 0.4346302174460194, 0.4551632855670826, 0.5911384015145393, 0.29729677606666893, 1.527629805768639, 1.0363623534924484, 0.832983853155595, 0.7077477014781178, 1.3237797265897135, 0.5337466797918913, 0.6577912325461629, 1.5532776421149592, 0.40997238937453523, 0.49728096063798666, 1.0630311886108523, 1.2802378369743614, 2.472157843146477, 2.6756738007725205, 2.2968669991895942, 1.9808573662938507, 1.4792070269807331, 0.9080202247536517, 1.2969413845122757, 0.5917361993016623, 0.8323786178916563, 0.9221490964035604, 0.6655529086153414, 1.3486300038148322, 1.9580018106284367, 1.1834079737007401, 0.9375536077109305, 1.6539693454428912, 1.4464410820519789, 2.007665559184164, 0.6187477747000323, 0.5105540402056296, 1.0652029648675385, 1.3939361850348766, 0.772613184933455, 2.416692632202062, 2.3208907100104073, 28.611600409454514, 0.9343867114068176, 0.7847792838976132, 0.4404817004706118, 53.04442372214576, 2.1953583123885383, 1.680642210820233, 1.2849447050501923, 0.4557316976648993, 1.2354770226550307, 1.2360280296628225, 0.8502942882945264, 0.8304505159912781, 0.7885340417656329, 0.6325457062600744, 1.188887585565884, 1.4181037058400645, 3.122485802930581, 0.966653605583579, 1.0838896552821606, 2.553177613078795, 1.450382730237554, 0.7632726310486265, 0.895266260916115, 1.9700088993331226, 0.7384568461667038, 0.8102982922157426, 1.0082577939831898, 0.3663644679633872, 1.4128916942819683, 0.9452997827269758, 1.276743464706049, 0.5804778537608694, 1.0044629992438547, 0.7284099759820768, 2.8829025963270465, 1.8339955424938295, 1.0903704785554253, 9.770646102833243, 1.5193599747398157, 0.8324090327085382, 2.7566484542495635, 2.139094071828573, 2.0939495359657183, 1.4366681788740054, 0.5230509179262286, 1.0008909730087778, 2.461737515915166, 0.49746891943314714, 2.339056640635634, 1.207517812742504, 1.2054796041329234, 2.594959255046583, 0.5921582484416769, 1.806970752857919, 1.2767090827897678, 1.2243090525196472, 1.4150715599581218, 5.992521349042496, 5.1034240152080885, 8.46926311219445, 1.023799134152379, 0.9244660456104702, 1.592122868417166, 1.2893838328651837, 91.67030019613865, 122.53507666666665, 2.756133475696673, 2.123233626106819, 3.1122784294655226, 7.104139081609922, 3.612470584910339, 2.0598733064181, 2.2085315110750563, 1.4692885489332104, 1.2667093892054746, 4.279484674501509, 2.1515911002977357, 0.5789569122464068, 0.31740476304569853, 1.4948797440344928, 1.3772934656897402, 1.1254177369692762, 0.5522494943621351, 1.4825477429460734, 0.5803753640240406, 1.4190264199389115, 2.1629859461454024, 0.5705006732907366, 0.7481869676622916, 1.5027351052538072, 336.7548412904198, 13.176731542958954, 4.23260152575528, 1.4796545586190046, 0.602184180542695, 2.5065512742671934, 2.8476532562908368, 1.0859497261518252, 0.2695037293873364, 1.0586797337561902, 0.8068956637933001, 15.011727731878658, 2.5487547786283398, 1.090951889571379, 1.7591089844907979, 0.9358844377861282, 1.6746291392056212, 2.271458964598499, 1.3875807083311222, 1.285115699385219, 1.1385760898649475, 1.2299446224227233, 2.049072549649739, 1.1333679109670018, 0.45255352201897237, 101.44354, 0.11382450782742326, 0.880204170106882, 0.1790294611252764, 0.5812814391833303, 0.6680994795205062, 0.7361192642061227, 0.23395729734571546, 2.1955805141452043, 3.9302560302396925, 1.8994785368318876, 0.913855074265685, 0.6620287234260909, 11.277981313243354, 1.0277542613473531, 1.1252227885058872, 2.6456348643096583, 1.00558781487651, 0.6042817608845118, 1.2573392835348052, 2.3728102230946555, 2.349552054406586, 0.6253578923591551, 0.985225439976261, 5.090900976768754, 2.007537086248325, 0.5101659638291465, 345.8740533333333, 4.367281527603894, 0.3206269196415289, 0.9107506960692724, 0.8313144178535898, 1.4812725148034838, 1.4678724592179258, 0.7567557844209214, 0.5041948954520478, 3.0574391865417008, 0.7932276106850145, 0.8686078949613079, 2.1759492338351416, 0.8489427857026303, 2.8528865512906405, 1.1809520537956888, 1.1565233537670545, 1.8750974552073436, 2.222575926633904, 1.0997375322715375, 0.6311559603891924, 0.9668756896397058, 1.3040992462967576, 0.3565749144634846, 0.953110150028748, 3.4430678930014387, 2.5400585284719344, 0.8307966805367306, 4.7416407614827545, 1.0754207797881392, 1.6266439886759703, 1.2788033892670205, 0.5438198275423717, 2.3595957938133156, 1.3628594547693471, 2.073218297687276, 0.8529190108530912, 9.13841831070117, 0.39031568085665935, 0.9899557587829165, 0.5576082988249234, 7.785169284248964, 25.039746658970035, 1.7520135052542236, 3.3005721886561785, 0.3573398076295067, 1.1958313392221922, 0.8738873640521843, 1.955837405019145, 0.8089478228697964, 1.5992606428492575, 1.562613579387651, 1.9667082478999012, 0.6790903585110218, 2.020464551329485, 0.718309091409843, 1.1172227916255417, 0.8338600841133335, 6.975585874226153, 10.787625680980543, 1.0291580800349398, 0.9965423655860597, 0.9388408582971196, 1.1108350005486858, 0.9335666030837402, 1.9923338765700174, 1.2377926865459135, 1.0026256557402258, 1.2994748651911976, 1.2279811413397759, 1.4971397001163498, 0.9340912387613841, 0.31009065043135764, 1.8637416483143667, 1.1086015344736813, 0.9271388378388171, 2.385900297128161, 32590.43405671278, 202.03677900937686, 2901.9028760839947, 0.3696232803356419, 0.6862066288812976, 2.4161772886290374, 0.5550641408911261, 0.6477233146535526, 1.5979637898261865, 1.1066324032602675, 0.7196327482130004, 4.149202540567248, 0.8799283308110555, 1.032322610369254, 0.6761229407653422, 0.8615173875056502, 0.7852029857347066, 2.1654288215996513, 1.0290749366295862, 0.7461923910933084, 0.569959882902993, 0.8196263382657057, 0.8221343095429001, 2.8949289810087597, 116.12152999999999, 1.2593189182570932, 1.467086342645875, 1.3069915929790838, 0.1269776165666256, 1.0900294558054473, 0.5621145194319995, 3.1727928332556323, 1.9875671086223374, 1.2105200258919937, 1.5098430815864894, 1.2669217997110762, 0.9345602689224013, 0.8019863783648563, 0.6031965865766296, 0.4922921576839454, 0.4219515539412219, 0.7399316760940894, 7.8867741920588825, 0.7031580674424943, 3.4037445464029803, 2.3427799774272833, 0.5125713152596176, 0.9519755820135033, 2.2117422013445114, 0.424159917678932, 3.43374432908385, 1.765893316416087, 1.5000174560787116, 1.2913012302481766, 0.5559167533719611, 1.3330184914949452, 1.8332057687163916, 1.3134531311758861, 1.527189492577497, 0.9089274769025005, 0.9391974679565424, 0.7093336104615406, 1.0200921962914582, 0.23775070339353627, 0.3085576633075993, 1.3518582332254407, 1.4043488465678478, 0.9091377365329992, 1.3534580145627702, 0.9654170646407011, 1.8043292780873654, 1.3094534236801456, 3.3998334860177897, 4.02431504025379, 0.5840187867991574, 0.93363559167289, 1.9893956894177829, 1.0897671009695766, 1.4102300129520637, 1.5299555642780973, 1.3029846794447204, 4.145315181100956, 2.326110324419263, 1.16790703067097, 1.152379754422336, 4.839668081977274, 2.1675969227530008, 0.8321593330384287, 0.5500211556680595, 1.5988418101851107, 1.8676815986001798, 0.862377454106897, 0.7517958733194792, 1.161329925222582, 0.781571594452299, 1.5012174218303092, 1.4695676900620314, 1.3127257107007688, 2.7453729332783223, 1.0255385622162, 7.021271048339276, 0.23506694407522363, 2.6208378865092556, 1.344586748147062, 0.4865543307734137, 1.2365539158838326, 1.1801226646201477, 0.9874866543530773, 0.9438688508824414, 1.2791959930568961, 0.37883247055710634, 0.3717856292912315, 0.692270587066607, 0.6686359176848025, 3.218985848401502, 1.9648650806040948, 2.7339255389544523, 0.45069348443400936, 4.566726427589036, 0.7655973678510051, 0.7355473975133235, 0.6820741368742743, 0.5076597388872602, 0.8704223654643304, 0.7958918508185477, 0.994811137775133, 0.7237586546870058, 2.4757023260477604, 0.8037616687175974, 1.129682074399378, 0.9675475708662253, 4.00269822608931, 1.9326935558651888, 1.7180222710699193, 125.18041666666666, 5.084026044005507, 1.380493420175475, 0.7814613754807478, 62342.25026666667, 0.4131763102583597, 0.6591577814076309, 0.7135088114746099, 1.008703161697453, 0.9412849285643867, 0.5101980297234544, 0.6337499976326011, 0.8998857343922537, 1.4597627542463332, 1.161732332610706, 1.9105297440155578, 2.8328606047068803, 1.876739438035542, 0.349925963204901, 0.901739219577923, 0.4250836760020012, 0.7183452401476882, 0.5996571274064859, 0.42686315209958037, 0.7060817177446246, 0.8806887101770701, 3.2520646547038066, 0.5807600633851786, 1.5124080588567113, 1.0260020545384316, 1555.4241499999996, 0.5265648279603096, 1.0966550922359528, 1.0434160242009738, 0.3156919147079542, 2.572244475729284, 4.000422168921209, 0.3961534197275135, 1.2593173296239626, 4.107861891931306, 1.6692905483486293, 1.263690886933553, 1.1136299335590232, 0.8922940271898966, 0.4253340535962608, 1.464361214373909, 0.6273517477470025, 0.7777960515142534, 2.25534581329714], \"xaxis\": \"x\", \"y\": [0.9907940033740711, 0.724403277309745, 2.4401213480220605, 1.6783504461830185, 0.5825407847696783, 1.6070550006382929, 0.7521095959769492, 1.0072026894036696, 2.4580579034432897, 1.690561622699855, 1.5566296267945279, 0.9522663358548747, 1.7097102101846853, 2.4325423765592835, 12.021068775410496, 4.610540906396879, 1.1383050541617912, 5.302397208267755, 0.8098260135834622, 2.4993051815096425, 3.093085086064619, 0.8689079950532209, 0.9494652221889105, 1.2884780588230482, 1.4882435094159538, 2.4416118997828153, 0.80259573746263, 2.929671177103034, 2.462903703929579, 0.4442346837452083, 0.07378674583197285, 1.2073134490540431, 3.4939002126538337, 0.9384652381948947, 1.5618983464613325, 56.49056999999999, 1.2269363972514846, 0.9224147417000768, 1.3336891010600234, 0.715393941304983, 2.1288661151901596, 0.5604878170713116, 1.0667791256985002, 1.033087206876111, 0.5429966666666666, 0.5529984407066516, 1.7000321590373928, 1.8542786914548475, 1.3999829188482478, 0.5651111861168208, 0.9806472675872839, 3.132327420461604, 1.2377690701486657, 1.3984980443940827, 0.6897393579912889, 1.0582537047390683, 1.0807656351993689, 3.971834011661468, 1.3066745493348388, 1.3814174996139668, 0.7904369144406448, 1.6901591407683207, 1.3763103986942324, 3.470714462571185, 2.3357749241012487, 1.429253018132432, 44.3060970761975, 2.223257975086514, 14.305786666666666, 2.6746893332548662, 1.3137110708049569, 0.8715833548329435, 0.850293793406115, 0.7020626475571198, 6.069578645251796, 3.1551607358049916, 0.5783463020702897, 0.49834366849206746, 0.6172004824380111, 1.3289300854082864, 0.7186163876149616, 0.929311768884547, 1.2357454002921346, 1.396513498576687, 2.0553521229185017, 0.020569313948778395, 3.559202198645643, 1.7307502004899864, 2.672419916274478, 0.90216577068, 2.3743390168054606, 0.9505547939899656, 1.4452050717875118, 0.630707038609019, 0.39008879518957756, 1.1957226732827968, 2.9921016947737056, 2.734775702648452, 1.2626548762402836, 0.9834316579085518, 1.6127828295430628, 1.246684575331214, 1.7296701726254922, 0.9148942183100564, 2.0882659697203767, 0.8349526215319645, 1.9930869185994096, 0.7972151767348384, 1.229718978085721, 0.746231313881929, 0.9653637559876279, 1.4940709144670115, 0.5480111280973616, 0.750428589583552, 1.195124934229417, 1.2725138189501293, 1.9333957011163154, 2.6152005037572903, 1.8537946260350286, 1.3238229394351022, 1.3509347924969428, 1.2118651793423598, 1.5772413639834026, 1.425595765574115, 0.8731455952828625, 1.0621762363276224, 1.3871067576296687, 1.5984788302542026, 1.6488668465379808, 0.7894589114456134, 0.3592008869380274, 1.9936940057649783, 0.9808027025783025, 1.2785432809832178, 1.157126075165862, 1.0661087158900047, 0.8351173818970878, 1.1913434593870305, 0.636507531985739, 2.005943001533879, 1.7578398834548952, 5.389285138386896, 1.0495607633224289, 0.5017515037891958, 0.6167535227564955, 79.17840883652974, 2.2425163455038555, 1.1510367367451224, 0.6649189246452385, 0.7350920512003388, 1.1941244560666437, 1.7449449872181988, 1.0113384772454603, 0.9779891488997634, 3.4387963583601335, 1.9449951928263316, 1.1539508407107515, 1.5740095980346687, 2.2382565820127827, 1.4880568256702653, 1.386396361885059, 3.0739426194498205, 3.5056063505461634, 0.7081206202432614, 1.0791072405141724, 3.875387343940739, 0.8441164280508008, 0.9141023799613269, 0.6452248635783019, 0.5300385437212428, 0.7111613388349987, 1.3491152453226833, 1.8385090788054066, 0.4496250281340571, 1.4799086027208561, 0.733642035112425, 3.4227690618163247, 2.4890733118406634, 0.8901907955564871, 10.462947179519663, 1.2335715957894526, 1.8276303298880605, 5.344175656928883, 2.630444715320934, 1.116529878657642, 2.347976481290768, 0.6881425842250403, 1.0829628072240869, 3.1804652188609026, 1.0330373457644901, 1.498621085833023, 0.6185507643288601, 1.2189053194362913, 1.559109922292328, 0.587909683555068, 1.5206175623296567, 0.6897910860435528, 0.6239381791070316, 1.0583509379465474, 5.841903677334243, 4.091626500618329, 9.338390489914731, 1.0104529736938093, 1.0946980733532243, 2.4271896164178806, 1.80602785335942, 0.0, 1.9400566666666665, 0.7362528566538785, 0.417178623272836, 0.5858628273987275, 0.7558479718763582, 2.653911850436843, 2.645984494321724, 3.7446275475085664, 1.639599886526947, 0.2676745790153789, 0.2893123338499846, 0.21948160171710887, 1.1138901438192914, 0.37031417547897155, 1.9624722656672404, 1.534879351118105, 0.7257680534563956, 0.9059558817023482, 2.1444759426104922, 1.1175910642505826, 0.5842602838134497, 2.184225240077831, 0.6018804069249142, 1.148808063593825, 0.9739289775528724, 0.3646033273020176, 0.5761056300704078, 1.2447540844380403, 0.2509313674166249, 0.8243112456032946, 2.2592368864046004, 1.267011983407384, 1.041582796623812, 0.39540805577480864, 0.4751492611956653, 1.2776966560475522, 3.01826406178145, 1.1211577532712738, 2.865058024109197, 2.2356164237193283, 1.1031578287799366, 2.1119223997164815, 1.674332628237239, 0.7802462620643291, 0.8544191415218777, 1.5266168368833533, 1.2890071046590972, 1.8623820730037746, 1.209330664826498, 0.9457711602063663, 95.00488999999999, 0.8807841775426977, 1.121546726404451, 1.0471907222898518, 0.9278074028013368, 1.7592544894757343, 1.1528528113525014, 0.4362065901960214, 2.945146305469837, 2.3715864942193585, 1.8006874770345744, 2.04974262789632, 0.5180679878943669, 4.287719806948931, 0.8353506490087007, 1.0898079933331786, 3.644887674895952, 1.2466103604355678, 0.7282032054714043, 1.1194588048881997, 2.3520038005010235, 3.2732510597392075, 0.763949451347354, 0.43845574067407334, 0.7521043163492979, 0.5205968180578656, 0.9891882041290656, 5.324049999999999, 4.144957576707034, 0.6071856051528677, 0.9948208347894154, 0.6084927315350624, 1.0959897686580102, 1.3453427026484657, 1.3377569546890857, 0.6820998781265547, 2.7154768801577376, 0.6619539429235137, 1.1005135514546773, 1.5662264995054935, 1.8526133457917746, 3.3936705845980346, 1.1567315361714614, 1.4531929628023617, 2.7108774707022065, 2.24923612050633, 1.0175560641206571, 0.9062950124840343, 1.2805115338346569, 1.6342793075793054, 0.33607514935286387, 1.4677908883039479, 5.558199244159681, 2.2900029937560586, 1.1715364009814946, 2.7984281407786686, 0.6997911340337764, 0.7659335236406201, 0.26965833697663755, 0.7596123257028758, 2.507575762690887, 0.8899555919295252, 2.811087534009194, 0.8538037997577069, 4.85043413898141, 0.5028717508352298, 1.3474722967814965, 0.4651680477282975, 6.749213006638901, 0.8486964983852464, 1.100362412131722, 3.479578257590803, 0.6577317654779997, 1.3339026665651421, 1.2510171445468896, 3.5770182634954386, 1.3068480055892784, 0.8784543253892817, 3.345643391547926, 1.5783939442776125, 1.1338717772332523, 3.0882785759892464, 0.9169906239151198, 1.8509715168865455, 1.4401997087561866, 1.1864476711401948, 4.20886840996374, 0.8288503248817165, 0.888324310968691, 0.8790046616429673, 1.5365501895521267, 2.303141496302689, 1.2219155951674794, 1.403445526483267, 0.5836039007398091, 2.0079742345586626, 2.359667387864282, 4.151472956405575, 2.035515864075711, 0.5557804200471119, 2.6127078606349543, 1.1974446305634072, 1.135531102945207, 2.981857328901402, 0.3189054848038346, 0.0, 0.10423559619846692, 0.5428224221411817, 0.8084941845304248, 2.5963740336927, 1.414201410624858, 1.3974626784326243, 1.4023944820264285, 1.29142398002229, 0.3952911211591998, 4.134779140247448, 0.9946061962013861, 0.9932651204537079, 0.7877560205859637, 1.0203727518679704, 1.0321719770368742, 2.274412259696612, 1.2774740507749898, 1.1908246623699428, 1.3428546897411695, 0.7555036926299199, 1.0103258364254815, 1.411376707356179, 8.810806666666666, 1.769897728034908, 0.40883889491758635, 0.8977051931946257, 0.2581968011789661, 1.826586832797363, 0.553332876271631, 2.452195937493609, 1.6361023253845022, 1.5388237990201818, 0.8638359872313094, 1.157788395636664, 1.0215386405967806, 2.026518932888553, 1.6102080687367542, 0.7983787454562555, 0.369315051197676, 1.2228622954433759, 5.1158471434046415, 0.8259685488397, 4.687540812716402, 2.573789115064931, 0.6126856254067036, 1.0050973337492362, 3.831992291791032, 0.794106871195955, 2.8529963625953885, 2.845538886417784, 1.9919250168296483, 2.0467023610899906, 1.2724881993299035, 2.1163718551847275, 3.084965649946716, 1.466676010722856, 1.1151574504060549, 0.8823147223688822, 0.8327905345484699, 0.8651644124791923, 1.1852835339920211, 0.7274816925576221, 0.9782222821151719, 2.92985503848256, 0.8555152055745019, 0.4332321554860196, 1.7086072569069592, 1.6724403982298983, 3.2694655612476424, 2.1792249406552546, 4.223917775714807, 3.265681768943916, 0.7679558456931586, 0.9611271434263221, 2.0160403496923447, 1.1518712030373055, 1.3045267697823042, 1.6663917870236717, 1.1528880275891888, 3.0941192411255387, 2.0220527890380757, 1.2489516534585432, 1.0724044624001867, 4.291487007476427, 1.2138840590594744, 1.225595079380809, 0.7517689991516942, 1.8280270749855583, 1.544766734305251, 0.9651684863193531, 0.761607059061038, 1.3469281394170807, 0.9390826543654442, 1.6055243610534375, 1.1244989107761643, 0.9512412803960106, 1.538805712253637, 0.3306945494068587, 17.937364843177896, 0.4188785302136475, 2.4705807513531988, 1.2286914126795327, 0.6038625177733988, 1.6993254010324763, 2.1199641394598117, 1.5520712529110006, 2.196197802166124, 0.9561366621395856, 0.6209751418071557, 0.41195634087879296, 0.91978381506367, 0.7510233032047593, 2.7120310369720415, 3.1216036886596146, 1.4329765757796284, 0.782403485041029, 4.227521977594382, 0.874111982992243, 0.6633503091649738, 1.6187511610786964, 0.5331814751805117, 0.744185906682446, 0.5341410115683833, 0.6355950647017565, 0.6862664044573392, 1.6488971659016414, 0.6709827953998974, 0.756025615780613, 0.9512067905957717, 3.798361487473363, 1.0025124688215041, 1.7563883654277144, 56.466723333333334, 2.14975660717594, 1.137526366059452, 0.976395164316126, 3.5562300000000002, 0.6608895853768457, 1.4049805986022632, 1.1984737433890955, 1.1768476917785924, 1.4336250877954595, 0.6970273324414356, 0.41681937170459366, 0.9670666287474251, 0.9038453758456306, 0.8429462601366288, 1.0019734738134098, 2.3268657549388925, 1.32537898081183, 0.18473295785788002, 0.3088843034742518, 0.5608433113396887, 1.7163789237879632, 2.634821581160987, 0.7188908148827309, 0.7734709701810686, 0.8368750226367232, 3.4094694810247583, 0.5293033398400282, 1.5409951597221676, 1.0356182186065512, 0.0, 1.6768307078863027, 2.1259440693262435, 2.168164647053536, 0.2993752110377123, 1.4289578123439581, 1.5118682832965826, 1.2980143986805557, 1.3104465281822657, 4.597733159967796, 0.8440371389389668, 0.9518375666292718, 2.5121157647455346, 2.405409323648928, 1.4051979627614615, 2.997622347471468, 1.8002333560135793, 1.1461082950075812, 3.943172558376463], \"yaxis\": \"y\"}],                        {\"height\": 800, \"legend\": {\"tracegroupgap\": 0}, \"margin\": {\"t\": 60}, \"template\": {\"data\": {\"bar\": [{\"error_x\": {\"color\": \"#2a3f5f\"}, \"error_y\": {\"color\": \"#2a3f5f\"}, \"marker\": {\"line\": {\"color\": \"#E5ECF6\", \"width\": 0.5}}, \"type\": \"bar\"}], \"barpolar\": [{\"marker\": {\"line\": {\"color\": \"#E5ECF6\", \"width\": 0.5}}, \"type\": \"barpolar\"}], \"carpet\": [{\"aaxis\": {\"endlinecolor\": \"#2a3f5f\", \"gridcolor\": \"white\", \"linecolor\": \"white\", \"minorgridcolor\": \"white\", \"startlinecolor\": \"#2a3f5f\"}, \"baxis\": {\"endlinecolor\": \"#2a3f5f\", \"gridcolor\": \"white\", \"linecolor\": \"white\", \"minorgridcolor\": \"white\", \"startlinecolor\": \"#2a3f5f\"}, \"type\": \"carpet\"}], \"choropleth\": [{\"colorbar\": {\"outlinewidth\": 0, \"ticks\": \"\"}, \"type\": \"choropleth\"}], \"contour\": [{\"colorbar\": {\"outlinewidth\": 0, \"ticks\": \"\"}, \"colorscale\": [[0.0, \"#0d0887\"], [0.1111111111111111, \"#46039f\"], [0.2222222222222222, \"#7201a8\"], [0.3333333333333333, \"#9c179e\"], [0.4444444444444444, \"#bd3786\"], [0.5555555555555556, \"#d8576b\"], [0.6666666666666666, \"#ed7953\"], [0.7777777777777778, \"#fb9f3a\"], [0.8888888888888888, \"#fdca26\"], [1.0, \"#f0f921\"]], \"type\": \"contour\"}], \"contourcarpet\": [{\"colorbar\": {\"outlinewidth\": 0, \"ticks\": \"\"}, \"type\": \"contourcarpet\"}], \"heatmap\": [{\"colorbar\": {\"outlinewidth\": 0, \"ticks\": \"\"}, \"colorscale\": [[0.0, \"#0d0887\"], [0.1111111111111111, \"#46039f\"], [0.2222222222222222, \"#7201a8\"], [0.3333333333333333, \"#9c179e\"], [0.4444444444444444, \"#bd3786\"], [0.5555555555555556, \"#d8576b\"], [0.6666666666666666, \"#ed7953\"], [0.7777777777777778, \"#fb9f3a\"], [0.8888888888888888, \"#fdca26\"], [1.0, \"#f0f921\"]], \"type\": \"heatmap\"}], \"heatmapgl\": [{\"colorbar\": {\"outlinewidth\": 0, \"ticks\": \"\"}, \"colorscale\": [[0.0, \"#0d0887\"], [0.1111111111111111, \"#46039f\"], [0.2222222222222222, \"#7201a8\"], [0.3333333333333333, \"#9c179e\"], [0.4444444444444444, \"#bd3786\"], [0.5555555555555556, \"#d8576b\"], [0.6666666666666666, \"#ed7953\"], [0.7777777777777778, \"#fb9f3a\"], [0.8888888888888888, \"#fdca26\"], [1.0, \"#f0f921\"]], \"type\": \"heatmapgl\"}], \"histogram\": [{\"marker\": {\"colorbar\": {\"outlinewidth\": 0, \"ticks\": \"\"}}, \"type\": \"histogram\"}], \"histogram2d\": [{\"colorbar\": {\"outlinewidth\": 0, \"ticks\": \"\"}, \"colorscale\": [[0.0, \"#0d0887\"], [0.1111111111111111, \"#46039f\"], [0.2222222222222222, \"#7201a8\"], [0.3333333333333333, \"#9c179e\"], [0.4444444444444444, \"#bd3786\"], [0.5555555555555556, \"#d8576b\"], [0.6666666666666666, \"#ed7953\"], [0.7777777777777778, \"#fb9f3a\"], [0.8888888888888888, \"#fdca26\"], [1.0, \"#f0f921\"]], \"type\": \"histogram2d\"}], \"histogram2dcontour\": [{\"colorbar\": {\"outlinewidth\": 0, \"ticks\": \"\"}, \"colorscale\": [[0.0, \"#0d0887\"], [0.1111111111111111, \"#46039f\"], [0.2222222222222222, \"#7201a8\"], [0.3333333333333333, \"#9c179e\"], [0.4444444444444444, \"#bd3786\"], [0.5555555555555556, \"#d8576b\"], [0.6666666666666666, \"#ed7953\"], [0.7777777777777778, \"#fb9f3a\"], [0.8888888888888888, \"#fdca26\"], [1.0, \"#f0f921\"]], \"type\": \"histogram2dcontour\"}], \"mesh3d\": [{\"colorbar\": {\"outlinewidth\": 0, \"ticks\": \"\"}, \"type\": \"mesh3d\"}], \"parcoords\": [{\"line\": {\"colorbar\": {\"outlinewidth\": 0, \"ticks\": \"\"}}, \"type\": \"parcoords\"}], \"pie\": [{\"automargin\": true, \"type\": \"pie\"}], \"scatter\": [{\"marker\": {\"colorbar\": {\"outlinewidth\": 0, \"ticks\": \"\"}}, \"type\": \"scatter\"}], \"scatter3d\": [{\"line\": {\"colorbar\": {\"outlinewidth\": 0, \"ticks\": \"\"}}, \"marker\": {\"colorbar\": {\"outlinewidth\": 0, \"ticks\": \"\"}}, \"type\": \"scatter3d\"}], \"scattercarpet\": [{\"marker\": {\"colorbar\": {\"outlinewidth\": 0, \"ticks\": \"\"}}, \"type\": \"scattercarpet\"}], \"scattergeo\": [{\"marker\": {\"colorbar\": {\"outlinewidth\": 0, \"ticks\": \"\"}}, \"type\": \"scattergeo\"}], \"scattergl\": [{\"marker\": {\"colorbar\": {\"outlinewidth\": 0, \"ticks\": \"\"}}, \"type\": \"scattergl\"}], \"scattermapbox\": [{\"marker\": {\"colorbar\": {\"outlinewidth\": 0, \"ticks\": \"\"}}, \"type\": \"scattermapbox\"}], \"scatterpolar\": [{\"marker\": {\"colorbar\": {\"outlinewidth\": 0, \"ticks\": \"\"}}, \"type\": \"scatterpolar\"}], \"scatterpolargl\": [{\"marker\": {\"colorbar\": {\"outlinewidth\": 0, \"ticks\": \"\"}}, \"type\": \"scatterpolargl\"}], \"scatterternary\": [{\"marker\": {\"colorbar\": {\"outlinewidth\": 0, \"ticks\": \"\"}}, \"type\": \"scatterternary\"}], \"surface\": [{\"colorbar\": {\"outlinewidth\": 0, \"ticks\": \"\"}, \"colorscale\": [[0.0, \"#0d0887\"], [0.1111111111111111, \"#46039f\"], [0.2222222222222222, \"#7201a8\"], [0.3333333333333333, \"#9c179e\"], [0.4444444444444444, \"#bd3786\"], [0.5555555555555556, \"#d8576b\"], [0.6666666666666666, \"#ed7953\"], [0.7777777777777778, \"#fb9f3a\"], [0.8888888888888888, \"#fdca26\"], [1.0, \"#f0f921\"]], \"type\": \"surface\"}], \"table\": [{\"cells\": {\"fill\": {\"color\": \"#EBF0F8\"}, \"line\": {\"color\": \"white\"}}, \"header\": {\"fill\": {\"color\": \"#C8D4E3\"}, \"line\": {\"color\": \"white\"}}, \"type\": \"table\"}]}, \"layout\": {\"annotationdefaults\": {\"arrowcolor\": \"#2a3f5f\", \"arrowhead\": 0, \"arrowwidth\": 1}, \"autotypenumbers\": \"strict\", \"coloraxis\": {\"colorbar\": {\"outlinewidth\": 0, \"ticks\": \"\"}}, \"colorscale\": {\"diverging\": [[0, \"#8e0152\"], [0.1, \"#c51b7d\"], [0.2, \"#de77ae\"], [0.3, \"#f1b6da\"], [0.4, \"#fde0ef\"], [0.5, \"#f7f7f7\"], [0.6, \"#e6f5d0\"], [0.7, \"#b8e186\"], [0.8, \"#7fbc41\"], [0.9, \"#4d9221\"], [1, \"#276419\"]], \"sequential\": [[0.0, \"#0d0887\"], [0.1111111111111111, \"#46039f\"], [0.2222222222222222, \"#7201a8\"], [0.3333333333333333, \"#9c179e\"], [0.4444444444444444, \"#bd3786\"], [0.5555555555555556, \"#d8576b\"], [0.6666666666666666, \"#ed7953\"], [0.7777777777777778, \"#fb9f3a\"], [0.8888888888888888, \"#fdca26\"], [1.0, \"#f0f921\"]], \"sequentialminus\": [[0.0, \"#0d0887\"], [0.1111111111111111, \"#46039f\"], [0.2222222222222222, \"#7201a8\"], [0.3333333333333333, \"#9c179e\"], [0.4444444444444444, \"#bd3786\"], [0.5555555555555556, \"#d8576b\"], [0.6666666666666666, \"#ed7953\"], [0.7777777777777778, \"#fb9f3a\"], [0.8888888888888888, \"#fdca26\"], [1.0, \"#f0f921\"]]}, \"colorway\": [\"#636efa\", \"#EF553B\", \"#00cc96\", \"#ab63fa\", \"#FFA15A\", \"#19d3f3\", \"#FF6692\", \"#B6E880\", \"#FF97FF\", \"#FECB52\"], \"font\": {\"color\": \"#2a3f5f\"}, \"geo\": {\"bgcolor\": \"white\", \"lakecolor\": \"white\", \"landcolor\": \"#E5ECF6\", \"showlakes\": true, \"showland\": true, \"subunitcolor\": \"white\"}, \"hoverlabel\": {\"align\": \"left\"}, \"hovermode\": \"closest\", \"mapbox\": {\"style\": \"light\"}, \"paper_bgcolor\": \"white\", \"plot_bgcolor\": \"#E5ECF6\", \"polar\": {\"angularaxis\": {\"gridcolor\": \"white\", \"linecolor\": \"white\", \"ticks\": \"\"}, \"bgcolor\": \"#E5ECF6\", \"radialaxis\": {\"gridcolor\": \"white\", \"linecolor\": \"white\", \"ticks\": \"\"}}, \"scene\": {\"xaxis\": {\"backgroundcolor\": \"#E5ECF6\", \"gridcolor\": \"white\", \"gridwidth\": 2, \"linecolor\": \"white\", \"showbackground\": true, \"ticks\": \"\", \"zerolinecolor\": \"white\"}, \"yaxis\": {\"backgroundcolor\": \"#E5ECF6\", \"gridcolor\": \"white\", \"gridwidth\": 2, \"linecolor\": \"white\", \"showbackground\": true, \"ticks\": \"\", \"zerolinecolor\": \"white\"}, \"zaxis\": {\"backgroundcolor\": \"#E5ECF6\", \"gridcolor\": \"white\", \"gridwidth\": 2, \"linecolor\": \"white\", \"showbackground\": true, \"ticks\": \"\", \"zerolinecolor\": \"white\"}}, \"shapedefaults\": {\"line\": {\"color\": \"#2a3f5f\"}}, \"ternary\": {\"aaxis\": {\"gridcolor\": \"white\", \"linecolor\": \"white\", \"ticks\": \"\"}, \"baxis\": {\"gridcolor\": \"white\", \"linecolor\": \"white\", \"ticks\": \"\"}, \"bgcolor\": \"#E5ECF6\", \"caxis\": {\"gridcolor\": \"white\", \"linecolor\": \"white\", \"ticks\": \"\"}}, \"title\": {\"x\": 0.05}, \"xaxis\": {\"automargin\": true, \"gridcolor\": \"white\", \"linecolor\": \"white\", \"ticks\": \"\", \"title\": {\"standoff\": 15}, \"zerolinecolor\": \"white\", \"zerolinewidth\": 2}, \"yaxis\": {\"automargin\": true, \"gridcolor\": \"white\", \"linecolor\": \"white\", \"ticks\": \"\", \"title\": {\"standoff\": 15}, \"zerolinecolor\": \"white\", \"zerolinewidth\": 2}}}, \"width\": 1000, \"xaxis\": {\"anchor\": \"y\", \"domain\": [0.0, 1.0], \"title\": {\"text\": \"Trated vs Aged\"}, \"type\": \"log\"}, \"yaxis\": {\"anchor\": \"x\", \"domain\": [0.0, 1.0], \"title\": {\"text\": \"Young vs Aged\"}, \"type\": \"log\"}},                        {\"responsive\": true}                    ).then(function(){\n",
       "                            \n",
       "var gd = document.getElementById('0560aa95-041c-4a56-a20b-5c1c95a718cd');\n",
       "var x = new MutationObserver(function (mutations, observer) {{\n",
       "        var display = window.getComputedStyle(gd).display;\n",
       "        if (!display || display === 'none') {{\n",
       "            console.log([gd, 'removed!']);\n",
       "            Plotly.purge(gd);\n",
       "            observer.disconnect();\n",
       "        }}\n",
       "}});\n",
       "\n",
       "// Listen for the removal of the full notebook cells\n",
       "var notebookContainer = gd.closest('#notebook-container');\n",
       "if (notebookContainer) {{\n",
       "    x.observe(notebookContainer, {childList: true});\n",
       "}}\n",
       "\n",
       "// Listen for the clearing of the current output cell\n",
       "var outputEl = gd.closest('.output');\n",
       "if (outputEl) {{\n",
       "    x.observe(outputEl, {childList: true});\n",
       "}}\n",
       "\n",
       "                        })                };                });            </script>        </div>"
      ]
     },
     "metadata": {},
     "output_type": "display_data"
    }
   ],
   "source": [
    "fig = px.scatter(dg, x=\"ta\", y=\"ya\",hover_data=['gene'], log_x=True,log_y=True,width=1000, height=800,\n",
    "                labels={\n",
    "                     \"ta\": \"Trated vs Aged\",\n",
    "                     \"ya\": \"Young vs Aged\",\n",
    "                 },\n",
    "                )\n",
    "fig.show()"
   ]
  },
  {
   "cell_type": "code",
   "execution_count": 20,
   "metadata": {},
   "outputs": [
    {
     "data": {
      "text/html": [
       "<div>\n",
       "<style scoped>\n",
       "    .dataframe tbody tr th:only-of-type {\n",
       "        vertical-align: middle;\n",
       "    }\n",
       "\n",
       "    .dataframe tbody tr th {\n",
       "        vertical-align: top;\n",
       "    }\n",
       "\n",
       "    .dataframe thead th {\n",
       "        text-align: right;\n",
       "    }\n",
       "</style>\n",
       "<table border=\"1\" class=\"dataframe\">\n",
       "  <thead>\n",
       "    <tr style=\"text-align: right;\">\n",
       "      <th></th>\n",
       "      <th>a</th>\n",
       "      <th>y</th>\n",
       "      <th>t</th>\n",
       "      <th>ta</th>\n",
       "      <th>ya</th>\n",
       "    </tr>\n",
       "  </thead>\n",
       "  <tbody>\n",
       "    <tr>\n",
       "      <th>MYL6</th>\n",
       "      <td>1120.384764</td>\n",
       "      <td>1663.942782</td>\n",
       "      <td>1705.261223</td>\n",
       "      <td>584.876459</td>\n",
       "      <td>543.558018</td>\n",
       "    </tr>\n",
       "    <tr>\n",
       "      <th>PPIA</th>\n",
       "      <td>971.492354</td>\n",
       "      <td>1518.927373</td>\n",
       "      <td>1244.630942</td>\n",
       "      <td>273.138588</td>\n",
       "      <td>547.435019</td>\n",
       "    </tr>\n",
       "    <tr>\n",
       "      <th>TMSB4XP6</th>\n",
       "      <td>474.577921</td>\n",
       "      <td>1035.793859</td>\n",
       "      <td>785.241693</td>\n",
       "      <td>310.663772</td>\n",
       "      <td>561.215938</td>\n",
       "    </tr>\n",
       "    <tr>\n",
       "      <th>RPL31</th>\n",
       "      <td>993.516894</td>\n",
       "      <td>1565.678789</td>\n",
       "      <td>1563.495540</td>\n",
       "      <td>569.978646</td>\n",
       "      <td>572.161896</td>\n",
       "    </tr>\n",
       "    <tr>\n",
       "      <th>RPL21P16</th>\n",
       "      <td>500.867084</td>\n",
       "      <td>1087.818419</td>\n",
       "      <td>902.772285</td>\n",
       "      <td>401.905201</td>\n",
       "      <td>586.951334</td>\n",
       "    </tr>\n",
       "    <tr>\n",
       "      <th>RNA5SP202</th>\n",
       "      <td>273.846763</td>\n",
       "      <td>863.573716</td>\n",
       "      <td>505.241635</td>\n",
       "      <td>231.394872</td>\n",
       "      <td>589.726953</td>\n",
       "    </tr>\n",
       "    <tr>\n",
       "      <th>RPS17</th>\n",
       "      <td>1141.764582</td>\n",
       "      <td>1734.112634</td>\n",
       "      <td>1447.342986</td>\n",
       "      <td>305.578404</td>\n",
       "      <td>592.348051</td>\n",
       "    </tr>\n",
       "    <tr>\n",
       "      <th>TUBA1B</th>\n",
       "      <td>1853.437710</td>\n",
       "      <td>2450.705141</td>\n",
       "      <td>936.015898</td>\n",
       "      <td>-917.421812</td>\n",
       "      <td>597.267430</td>\n",
       "    </tr>\n",
       "    <tr>\n",
       "      <th>RPL39P3</th>\n",
       "      <td>477.009874</td>\n",
       "      <td>1081.964329</td>\n",
       "      <td>958.890108</td>\n",
       "      <td>481.880234</td>\n",
       "      <td>604.954455</td>\n",
       "    </tr>\n",
       "    <tr>\n",
       "      <th>RPS19</th>\n",
       "      <td>1646.891304</td>\n",
       "      <td>2281.141942</td>\n",
       "      <td>2361.423171</td>\n",
       "      <td>714.531867</td>\n",
       "      <td>634.250639</td>\n",
       "    </tr>\n",
       "    <tr>\n",
       "      <th>FN1</th>\n",
       "      <td>1506.223728</td>\n",
       "      <td>2160.586211</td>\n",
       "      <td>622.088012</td>\n",
       "      <td>-884.135716</td>\n",
       "      <td>654.362483</td>\n",
       "    </tr>\n",
       "    <tr>\n",
       "      <th>RPL13</th>\n",
       "      <td>859.597014</td>\n",
       "      <td>1531.795286</td>\n",
       "      <td>845.943988</td>\n",
       "      <td>-13.653026</td>\n",
       "      <td>672.198272</td>\n",
       "    </tr>\n",
       "    <tr>\n",
       "      <th>RPLP1</th>\n",
       "      <td>831.999067</td>\n",
       "      <td>1550.373149</td>\n",
       "      <td>1542.310248</td>\n",
       "      <td>710.311181</td>\n",
       "      <td>718.374081</td>\n",
       "    </tr>\n",
       "    <tr>\n",
       "      <th>ACTG1</th>\n",
       "      <td>1219.362807</td>\n",
       "      <td>1944.063543</td>\n",
       "      <td>843.620383</td>\n",
       "      <td>-375.742424</td>\n",
       "      <td>724.700736</td>\n",
       "    </tr>\n",
       "    <tr>\n",
       "      <th>RPL37A</th>\n",
       "      <td>2075.164181</td>\n",
       "      <td>2839.047001</td>\n",
       "      <td>2671.270322</td>\n",
       "      <td>596.106141</td>\n",
       "      <td>763.882820</td>\n",
       "    </tr>\n",
       "    <tr>\n",
       "      <th>S100A6</th>\n",
       "      <td>500.179774</td>\n",
       "      <td>1464.472176</td>\n",
       "      <td>1592.962604</td>\n",
       "      <td>1092.782830</td>\n",
       "      <td>964.292402</td>\n",
       "    </tr>\n",
       "    <tr>\n",
       "      <th>RPL41</th>\n",
       "      <td>3335.724585</td>\n",
       "      <td>4646.861339</td>\n",
       "      <td>4999.089578</td>\n",
       "      <td>1663.364993</td>\n",
       "      <td>1311.136754</td>\n",
       "    </tr>\n",
       "    <tr>\n",
       "      <th>LGALS1</th>\n",
       "      <td>671.555730</td>\n",
       "      <td>2003.085707</td>\n",
       "      <td>1227.464631</td>\n",
       "      <td>555.908901</td>\n",
       "      <td>1331.529977</td>\n",
       "    </tr>\n",
       "    <tr>\n",
       "      <th>VIM</th>\n",
       "      <td>4235.757803</td>\n",
       "      <td>7953.335624</td>\n",
       "      <td>2798.422460</td>\n",
       "      <td>-1437.335343</td>\n",
       "      <td>3717.577821</td>\n",
       "    </tr>\n",
       "    <tr>\n",
       "      <th>RNA5-8SP6</th>\n",
       "      <td>13507.788978</td>\n",
       "      <td>21597.173308</td>\n",
       "      <td>13018.624697</td>\n",
       "      <td>-489.164281</td>\n",
       "      <td>8089.384330</td>\n",
       "    </tr>\n",
       "  </tbody>\n",
       "</table>\n",
       "</div>"
      ],
      "text/plain": [
       "                      a             y             t           ta           ya\n",
       "MYL6        1120.384764   1663.942782   1705.261223   584.876459   543.558018\n",
       "PPIA         971.492354   1518.927373   1244.630942   273.138588   547.435019\n",
       "TMSB4XP6     474.577921   1035.793859    785.241693   310.663772   561.215938\n",
       "RPL31        993.516894   1565.678789   1563.495540   569.978646   572.161896\n",
       "RPL21P16     500.867084   1087.818419    902.772285   401.905201   586.951334\n",
       "RNA5SP202    273.846763    863.573716    505.241635   231.394872   589.726953\n",
       "RPS17       1141.764582   1734.112634   1447.342986   305.578404   592.348051\n",
       "TUBA1B      1853.437710   2450.705141    936.015898  -917.421812   597.267430\n",
       "RPL39P3      477.009874   1081.964329    958.890108   481.880234   604.954455\n",
       "RPS19       1646.891304   2281.141942   2361.423171   714.531867   634.250639\n",
       "FN1         1506.223728   2160.586211    622.088012  -884.135716   654.362483\n",
       "RPL13        859.597014   1531.795286    845.943988   -13.653026   672.198272\n",
       "RPLP1        831.999067   1550.373149   1542.310248   710.311181   718.374081\n",
       "ACTG1       1219.362807   1944.063543    843.620383  -375.742424   724.700736\n",
       "RPL37A      2075.164181   2839.047001   2671.270322   596.106141   763.882820\n",
       "S100A6       500.179774   1464.472176   1592.962604  1092.782830   964.292402\n",
       "RPL41       3335.724585   4646.861339   4999.089578  1663.364993  1311.136754\n",
       "LGALS1       671.555730   2003.085707   1227.464631   555.908901  1331.529977\n",
       "VIM         4235.757803   7953.335624   2798.422460 -1437.335343  3717.577821\n",
       "RNA5-8SP6  13507.788978  21597.173308  13018.624697  -489.164281  8089.384330"
      ]
     },
     "execution_count": 20,
     "metadata": {},
     "output_type": "execute_result"
    }
   ],
   "source": [
    "dg['ya']=dg.y-dg.a\n",
    "dg['ta']=dg.t-dg.a\n",
    "\n",
    "dg[['a','y','t','ta','ya']].sort_values('ya').tail(20)"
   ]
  },
  {
   "cell_type": "code",
   "execution_count": 23,
   "metadata": {},
   "outputs": [
    {
     "data": {
      "text/html": [
       "<div>\n",
       "<style scoped>\n",
       "    .dataframe tbody tr th:only-of-type {\n",
       "        vertical-align: middle;\n",
       "    }\n",
       "\n",
       "    .dataframe tbody tr th {\n",
       "        vertical-align: top;\n",
       "    }\n",
       "\n",
       "    .dataframe thead th {\n",
       "        text-align: right;\n",
       "    }\n",
       "</style>\n",
       "<table border=\"1\" class=\"dataframe\">\n",
       "  <thead>\n",
       "    <tr style=\"text-align: right;\">\n",
       "      <th></th>\n",
       "      <th>a</th>\n",
       "      <th>y</th>\n",
       "      <th>t</th>\n",
       "      <th>ta</th>\n",
       "      <th>ya</th>\n",
       "    </tr>\n",
       "  </thead>\n",
       "  <tbody>\n",
       "    <tr>\n",
       "      <th>FOSL1</th>\n",
       "      <td>21.048330</td>\n",
       "      <td>16.437560</td>\n",
       "      <td>7.684795</td>\n",
       "      <td>-13.363536</td>\n",
       "      <td>-4.610770</td>\n",
       "    </tr>\n",
       "    <tr>\n",
       "      <th>FOSL1</th>\n",
       "      <td>10.170886</td>\n",
       "      <td>4.872546</td>\n",
       "      <td>2.434058</td>\n",
       "      <td>-7.736828</td>\n",
       "      <td>-5.298340</td>\n",
       "    </tr>\n",
       "    <tr>\n",
       "      <th>FOSL1</th>\n",
       "      <td>7.306826</td>\n",
       "      <td>6.858443</td>\n",
       "      <td>5.131711</td>\n",
       "      <td>-2.175115</td>\n",
       "      <td>-0.448383</td>\n",
       "    </tr>\n",
       "    <tr>\n",
       "      <th>FOSL1</th>\n",
       "      <td>4.969031</td>\n",
       "      <td>1.693283</td>\n",
       "      <td>3.185143</td>\n",
       "      <td>-1.783888</td>\n",
       "      <td>-3.275747</td>\n",
       "    </tr>\n",
       "    <tr>\n",
       "      <th>FOS</th>\n",
       "      <td>1.969997</td>\n",
       "      <td>3.777029</td>\n",
       "      <td>0.548918</td>\n",
       "      <td>-1.421079</td>\n",
       "      <td>1.807032</td>\n",
       "    </tr>\n",
       "    <tr>\n",
       "      <th>FOSB</th>\n",
       "      <td>1.257984</td>\n",
       "      <td>0.029494</td>\n",
       "      <td>0.000000</td>\n",
       "      <td>-1.257984</td>\n",
       "      <td>-1.228490</td>\n",
       "    </tr>\n",
       "    <tr>\n",
       "      <th>FOSL2</th>\n",
       "      <td>4.432447</td>\n",
       "      <td>6.089121</td>\n",
       "      <td>3.217552</td>\n",
       "      <td>-1.214896</td>\n",
       "      <td>1.656673</td>\n",
       "    </tr>\n",
       "    <tr>\n",
       "      <th>FOS</th>\n",
       "      <td>0.533055</td>\n",
       "      <td>2.591709</td>\n",
       "      <td>0.145102</td>\n",
       "      <td>-0.387953</td>\n",
       "      <td>2.058654</td>\n",
       "    </tr>\n",
       "    <tr>\n",
       "      <th>FOSB</th>\n",
       "      <td>0.133092</td>\n",
       "      <td>0.942643</td>\n",
       "      <td>0.000000</td>\n",
       "      <td>-0.133092</td>\n",
       "      <td>0.809551</td>\n",
       "    </tr>\n",
       "    <tr>\n",
       "      <th>FOSB</th>\n",
       "      <td>0.110301</td>\n",
       "      <td>0.821597</td>\n",
       "      <td>0.076816</td>\n",
       "      <td>-0.033486</td>\n",
       "      <td>0.711295</td>\n",
       "    </tr>\n",
       "    <tr>\n",
       "      <th>FOSL1P1</th>\n",
       "      <td>0.098878</td>\n",
       "      <td>0.223012</td>\n",
       "      <td>0.089770</td>\n",
       "      <td>-0.009107</td>\n",
       "      <td>0.124134</td>\n",
       "    </tr>\n",
       "    <tr>\n",
       "      <th>FOSB</th>\n",
       "      <td>0.000000</td>\n",
       "      <td>0.115307</td>\n",
       "      <td>0.000000</td>\n",
       "      <td>0.000000</td>\n",
       "      <td>0.115307</td>\n",
       "    </tr>\n",
       "    <tr>\n",
       "      <th>FOSB</th>\n",
       "      <td>0.000000</td>\n",
       "      <td>0.000000</td>\n",
       "      <td>0.000000</td>\n",
       "      <td>0.000000</td>\n",
       "      <td>0.000000</td>\n",
       "    </tr>\n",
       "    <tr>\n",
       "      <th>FOSB</th>\n",
       "      <td>0.000000</td>\n",
       "      <td>0.000000</td>\n",
       "      <td>0.000000</td>\n",
       "      <td>0.000000</td>\n",
       "      <td>0.000000</td>\n",
       "    </tr>\n",
       "    <tr>\n",
       "      <th>FOSB</th>\n",
       "      <td>0.000000</td>\n",
       "      <td>0.237991</td>\n",
       "      <td>0.000000</td>\n",
       "      <td>0.000000</td>\n",
       "      <td>0.237991</td>\n",
       "    </tr>\n",
       "    <tr>\n",
       "      <th>FOS</th>\n",
       "      <td>0.000000</td>\n",
       "      <td>0.751228</td>\n",
       "      <td>0.000000</td>\n",
       "      <td>0.000000</td>\n",
       "      <td>0.751228</td>\n",
       "    </tr>\n",
       "    <tr>\n",
       "      <th>FOSB</th>\n",
       "      <td>0.000000</td>\n",
       "      <td>0.000000</td>\n",
       "      <td>0.000000</td>\n",
       "      <td>0.000000</td>\n",
       "      <td>0.000000</td>\n",
       "    </tr>\n",
       "    <tr>\n",
       "      <th>FOSB</th>\n",
       "      <td>0.000000</td>\n",
       "      <td>0.000000</td>\n",
       "      <td>0.000000</td>\n",
       "      <td>0.000000</td>\n",
       "      <td>0.000000</td>\n",
       "    </tr>\n",
       "    <tr>\n",
       "      <th>FOSB</th>\n",
       "      <td>0.000000</td>\n",
       "      <td>0.000000</td>\n",
       "      <td>0.037395</td>\n",
       "      <td>0.037395</td>\n",
       "      <td>0.000000</td>\n",
       "    </tr>\n",
       "    <tr>\n",
       "      <th>FOSB</th>\n",
       "      <td>0.000000</td>\n",
       "      <td>1.095414</td>\n",
       "      <td>0.051028</td>\n",
       "      <td>0.051028</td>\n",
       "      <td>1.095414</td>\n",
       "    </tr>\n",
       "    <tr>\n",
       "      <th>FOS</th>\n",
       "      <td>1.267981</td>\n",
       "      <td>6.696132</td>\n",
       "      <td>1.368287</td>\n",
       "      <td>0.100306</td>\n",
       "      <td>5.428151</td>\n",
       "    </tr>\n",
       "    <tr>\n",
       "      <th>FOSB</th>\n",
       "      <td>0.095687</td>\n",
       "      <td>1.160349</td>\n",
       "      <td>0.199784</td>\n",
       "      <td>0.104097</td>\n",
       "      <td>1.064663</td>\n",
       "    </tr>\n",
       "    <tr>\n",
       "      <th>FOS</th>\n",
       "      <td>0.000000</td>\n",
       "      <td>0.127797</td>\n",
       "      <td>0.145076</td>\n",
       "      <td>0.145076</td>\n",
       "      <td>0.127797</td>\n",
       "    </tr>\n",
       "    <tr>\n",
       "      <th>FOS</th>\n",
       "      <td>0.585977</td>\n",
       "      <td>7.596022</td>\n",
       "      <td>0.760183</td>\n",
       "      <td>0.174206</td>\n",
       "      <td>7.010045</td>\n",
       "    </tr>\n",
       "    <tr>\n",
       "      <th>FOS</th>\n",
       "      <td>0.730286</td>\n",
       "      <td>4.147406</td>\n",
       "      <td>0.978346</td>\n",
       "      <td>0.248060</td>\n",
       "      <td>3.417120</td>\n",
       "    </tr>\n",
       "    <tr>\n",
       "      <th>FOS</th>\n",
       "      <td>0.000000</td>\n",
       "      <td>2.047628</td>\n",
       "      <td>0.463259</td>\n",
       "      <td>0.463259</td>\n",
       "      <td>2.047628</td>\n",
       "    </tr>\n",
       "    <tr>\n",
       "      <th>FOSL2</th>\n",
       "      <td>1.652594</td>\n",
       "      <td>3.243209</td>\n",
       "      <td>2.324254</td>\n",
       "      <td>0.671660</td>\n",
       "      <td>1.590615</td>\n",
       "    </tr>\n",
       "    <tr>\n",
       "      <th>FOS</th>\n",
       "      <td>0.167382</td>\n",
       "      <td>4.075522</td>\n",
       "      <td>1.092315</td>\n",
       "      <td>0.924933</td>\n",
       "      <td>3.908140</td>\n",
       "    </tr>\n",
       "    <tr>\n",
       "      <th>FOSL2</th>\n",
       "      <td>0.437396</td>\n",
       "      <td>6.368791</td>\n",
       "      <td>5.072898</td>\n",
       "      <td>4.635501</td>\n",
       "      <td>5.931395</td>\n",
       "    </tr>\n",
       "  </tbody>\n",
       "</table>\n",
       "</div>"
      ],
      "text/plain": [
       "                 a          y         t         ta        ya\n",
       "FOSL1    21.048330  16.437560  7.684795 -13.363536 -4.610770\n",
       "FOSL1    10.170886   4.872546  2.434058  -7.736828 -5.298340\n",
       "FOSL1     7.306826   6.858443  5.131711  -2.175115 -0.448383\n",
       "FOSL1     4.969031   1.693283  3.185143  -1.783888 -3.275747\n",
       "FOS       1.969997   3.777029  0.548918  -1.421079  1.807032\n",
       "FOSB      1.257984   0.029494  0.000000  -1.257984 -1.228490\n",
       "FOSL2     4.432447   6.089121  3.217552  -1.214896  1.656673\n",
       "FOS       0.533055   2.591709  0.145102  -0.387953  2.058654\n",
       "FOSB      0.133092   0.942643  0.000000  -0.133092  0.809551\n",
       "FOSB      0.110301   0.821597  0.076816  -0.033486  0.711295\n",
       "FOSL1P1   0.098878   0.223012  0.089770  -0.009107  0.124134\n",
       "FOSB      0.000000   0.115307  0.000000   0.000000  0.115307\n",
       "FOSB      0.000000   0.000000  0.000000   0.000000  0.000000\n",
       "FOSB      0.000000   0.000000  0.000000   0.000000  0.000000\n",
       "FOSB      0.000000   0.237991  0.000000   0.000000  0.237991\n",
       "FOS       0.000000   0.751228  0.000000   0.000000  0.751228\n",
       "FOSB      0.000000   0.000000  0.000000   0.000000  0.000000\n",
       "FOSB      0.000000   0.000000  0.000000   0.000000  0.000000\n",
       "FOSB      0.000000   0.000000  0.037395   0.037395  0.000000\n",
       "FOSB      0.000000   1.095414  0.051028   0.051028  1.095414\n",
       "FOS       1.267981   6.696132  1.368287   0.100306  5.428151\n",
       "FOSB      0.095687   1.160349  0.199784   0.104097  1.064663\n",
       "FOS       0.000000   0.127797  0.145076   0.145076  0.127797\n",
       "FOS       0.585977   7.596022  0.760183   0.174206  7.010045\n",
       "FOS       0.730286   4.147406  0.978346   0.248060  3.417120\n",
       "FOS       0.000000   2.047628  0.463259   0.463259  2.047628\n",
       "FOSL2     1.652594   3.243209  2.324254   0.671660  1.590615\n",
       "FOS       0.167382   4.075522  1.092315   0.924933  3.908140\n",
       "FOSL2     0.437396   6.368791  5.072898   4.635501  5.931395"
      ]
     },
     "execution_count": 23,
     "metadata": {},
     "output_type": "execute_result"
    }
   ],
   "source": [
    "dg[dg.index.str.startswith('FOS')][['a','y','t','ta','ya']].sort_values('ta')"
   ]
  },
  {
   "cell_type": "code",
   "execution_count": 35,
   "metadata": {},
   "outputs": [
    {
     "data": {
      "text/html": [
       "<div>\n",
       "<style scoped>\n",
       "    .dataframe tbody tr th:only-of-type {\n",
       "        vertical-align: middle;\n",
       "    }\n",
       "\n",
       "    .dataframe tbody tr th {\n",
       "        vertical-align: top;\n",
       "    }\n",
       "\n",
       "    .dataframe thead th {\n",
       "        text-align: right;\n",
       "    }\n",
       "</style>\n",
       "<table border=\"1\" class=\"dataframe\">\n",
       "  <thead>\n",
       "    <tr style=\"text-align: right;\">\n",
       "      <th></th>\n",
       "      <th>a</th>\n",
       "      <th>y</th>\n",
       "      <th>t</th>\n",
       "      <th>ta</th>\n",
       "      <th>ya</th>\n",
       "    </tr>\n",
       "  </thead>\n",
       "  <tbody>\n",
       "    <tr>\n",
       "      <th>SAP30L</th>\n",
       "      <td>14.409211</td>\n",
       "      <td>7.804880</td>\n",
       "      <td>1.896159</td>\n",
       "      <td>-12.513052</td>\n",
       "      <td>-6.604331</td>\n",
       "    </tr>\n",
       "    <tr>\n",
       "      <th>SAP30BP</th>\n",
       "      <td>9.060383</td>\n",
       "      <td>0.193185</td>\n",
       "      <td>0.000000</td>\n",
       "      <td>-9.060383</td>\n",
       "      <td>-8.867199</td>\n",
       "    </tr>\n",
       "    <tr>\n",
       "      <th>SAP30BP</th>\n",
       "      <td>8.059345</td>\n",
       "      <td>0.378748</td>\n",
       "      <td>0.849036</td>\n",
       "      <td>-7.210309</td>\n",
       "      <td>-7.680597</td>\n",
       "    </tr>\n",
       "    <tr>\n",
       "      <th>SAP30BP</th>\n",
       "      <td>11.421996</td>\n",
       "      <td>8.412934</td>\n",
       "      <td>6.780633</td>\n",
       "      <td>-4.641363</td>\n",
       "      <td>-3.009062</td>\n",
       "    </tr>\n",
       "    <tr>\n",
       "      <th>SAP30BP</th>\n",
       "      <td>4.503870</td>\n",
       "      <td>0.453924</td>\n",
       "      <td>0.531557</td>\n",
       "      <td>-3.972313</td>\n",
       "      <td>-4.049946</td>\n",
       "    </tr>\n",
       "    <tr>\n",
       "      <th>SAP30BP</th>\n",
       "      <td>15.408865</td>\n",
       "      <td>17.511408</td>\n",
       "      <td>11.466237</td>\n",
       "      <td>-3.942628</td>\n",
       "      <td>2.102543</td>\n",
       "    </tr>\n",
       "    <tr>\n",
       "      <th>SAP30L</th>\n",
       "      <td>5.046981</td>\n",
       "      <td>2.977593</td>\n",
       "      <td>1.288732</td>\n",
       "      <td>-3.758249</td>\n",
       "      <td>-2.069388</td>\n",
       "    </tr>\n",
       "    <tr>\n",
       "      <th>SAP30BP</th>\n",
       "      <td>9.057478</td>\n",
       "      <td>4.740166</td>\n",
       "      <td>5.623798</td>\n",
       "      <td>-3.433681</td>\n",
       "      <td>-4.317313</td>\n",
       "    </tr>\n",
       "    <tr>\n",
       "      <th>SAP30L</th>\n",
       "      <td>0.885796</td>\n",
       "      <td>0.589325</td>\n",
       "      <td>0.000000</td>\n",
       "      <td>-0.885796</td>\n",
       "      <td>-0.296471</td>\n",
       "    </tr>\n",
       "    <tr>\n",
       "      <th>SAP30BP</th>\n",
       "      <td>7.955739</td>\n",
       "      <td>9.503253</td>\n",
       "      <td>7.747586</td>\n",
       "      <td>-0.208153</td>\n",
       "      <td>1.547514</td>\n",
       "    </tr>\n",
       "    <tr>\n",
       "      <th>SAP30BP</th>\n",
       "      <td>1.947444</td>\n",
       "      <td>2.042506</td>\n",
       "      <td>1.757634</td>\n",
       "      <td>-0.189810</td>\n",
       "      <td>0.095062</td>\n",
       "    </tr>\n",
       "    <tr>\n",
       "      <th>SAP30</th>\n",
       "      <td>0.431238</td>\n",
       "      <td>0.599601</td>\n",
       "      <td>0.268244</td>\n",
       "      <td>-0.162995</td>\n",
       "      <td>0.168363</td>\n",
       "    </tr>\n",
       "    <tr>\n",
       "      <th>SAP30BP</th>\n",
       "      <td>0.447218</td>\n",
       "      <td>0.471069</td>\n",
       "      <td>0.371094</td>\n",
       "      <td>-0.076124</td>\n",
       "      <td>0.023851</td>\n",
       "    </tr>\n",
       "    <tr>\n",
       "      <th>SAP30BP</th>\n",
       "      <td>0.000000</td>\n",
       "      <td>0.000000</td>\n",
       "      <td>0.000000</td>\n",
       "      <td>0.000000</td>\n",
       "      <td>0.000000</td>\n",
       "    </tr>\n",
       "    <tr>\n",
       "      <th>SAP30L</th>\n",
       "      <td>0.000000</td>\n",
       "      <td>0.000000</td>\n",
       "      <td>0.094423</td>\n",
       "      <td>0.094423</td>\n",
       "      <td>0.000000</td>\n",
       "    </tr>\n",
       "    <tr>\n",
       "      <th>SAP30L</th>\n",
       "      <td>0.999268</td>\n",
       "      <td>1.930983</td>\n",
       "      <td>1.135242</td>\n",
       "      <td>0.135975</td>\n",
       "      <td>0.931715</td>\n",
       "    </tr>\n",
       "    <tr>\n",
       "      <th>SAP30BP</th>\n",
       "      <td>5.020371</td>\n",
       "      <td>7.616151</td>\n",
       "      <td>5.204439</td>\n",
       "      <td>0.184068</td>\n",
       "      <td>2.595780</td>\n",
       "    </tr>\n",
       "    <tr>\n",
       "      <th>SAP30BP</th>\n",
       "      <td>0.000000</td>\n",
       "      <td>0.276588</td>\n",
       "      <td>0.270761</td>\n",
       "      <td>0.270761</td>\n",
       "      <td>0.276588</td>\n",
       "    </tr>\n",
       "    <tr>\n",
       "      <th>SAP30BP</th>\n",
       "      <td>0.747577</td>\n",
       "      <td>0.925489</td>\n",
       "      <td>1.043406</td>\n",
       "      <td>0.295829</td>\n",
       "      <td>0.177913</td>\n",
       "    </tr>\n",
       "    <tr>\n",
       "      <th>SAP30BP</th>\n",
       "      <td>0.802536</td>\n",
       "      <td>2.833835</td>\n",
       "      <td>1.110151</td>\n",
       "      <td>0.307616</td>\n",
       "      <td>2.031299</td>\n",
       "    </tr>\n",
       "    <tr>\n",
       "      <th>SAP30BP</th>\n",
       "      <td>0.726734</td>\n",
       "      <td>1.548239</td>\n",
       "      <td>1.055703</td>\n",
       "      <td>0.328969</td>\n",
       "      <td>0.821505</td>\n",
       "    </tr>\n",
       "    <tr>\n",
       "      <th>SAP30BP</th>\n",
       "      <td>0.132906</td>\n",
       "      <td>0.515257</td>\n",
       "      <td>0.519464</td>\n",
       "      <td>0.386558</td>\n",
       "      <td>0.382351</td>\n",
       "    </tr>\n",
       "    <tr>\n",
       "      <th>SAP30BP</th>\n",
       "      <td>2.656393</td>\n",
       "      <td>2.712946</td>\n",
       "      <td>3.160707</td>\n",
       "      <td>0.504314</td>\n",
       "      <td>0.056553</td>\n",
       "    </tr>\n",
       "    <tr>\n",
       "      <th>SAP30L</th>\n",
       "      <td>0.293510</td>\n",
       "      <td>1.022227</td>\n",
       "      <td>0.879853</td>\n",
       "      <td>0.586343</td>\n",
       "      <td>0.728717</td>\n",
       "    </tr>\n",
       "    <tr>\n",
       "      <th>SAP30BP</th>\n",
       "      <td>0.968244</td>\n",
       "      <td>2.184869</td>\n",
       "      <td>1.725959</td>\n",
       "      <td>0.757715</td>\n",
       "      <td>1.216625</td>\n",
       "    </tr>\n",
       "    <tr>\n",
       "      <th>SAP30BP</th>\n",
       "      <td>0.636896</td>\n",
       "      <td>1.127517</td>\n",
       "      <td>1.577239</td>\n",
       "      <td>0.940343</td>\n",
       "      <td>0.490621</td>\n",
       "    </tr>\n",
       "    <tr>\n",
       "      <th>SAP30L</th>\n",
       "      <td>0.000000</td>\n",
       "      <td>2.055768</td>\n",
       "      <td>0.941589</td>\n",
       "      <td>0.941589</td>\n",
       "      <td>2.055768</td>\n",
       "    </tr>\n",
       "    <tr>\n",
       "      <th>SAP30BP</th>\n",
       "      <td>0.000000</td>\n",
       "      <td>6.356507</td>\n",
       "      <td>0.988557</td>\n",
       "      <td>0.988557</td>\n",
       "      <td>6.356507</td>\n",
       "    </tr>\n",
       "    <tr>\n",
       "      <th>SAP30BP</th>\n",
       "      <td>0.786887</td>\n",
       "      <td>1.364301</td>\n",
       "      <td>1.808229</td>\n",
       "      <td>1.021342</td>\n",
       "      <td>0.577414</td>\n",
       "    </tr>\n",
       "    <tr>\n",
       "      <th>SAP30BP</th>\n",
       "      <td>0.372118</td>\n",
       "      <td>2.088797</td>\n",
       "      <td>1.621844</td>\n",
       "      <td>1.249726</td>\n",
       "      <td>1.716679</td>\n",
       "    </tr>\n",
       "    <tr>\n",
       "      <th>SAP30BP</th>\n",
       "      <td>0.243572</td>\n",
       "      <td>1.871059</td>\n",
       "      <td>1.692020</td>\n",
       "      <td>1.448448</td>\n",
       "      <td>1.627487</td>\n",
       "    </tr>\n",
       "    <tr>\n",
       "      <th>SAP30BP</th>\n",
       "      <td>1.325978</td>\n",
       "      <td>4.617656</td>\n",
       "      <td>3.757687</td>\n",
       "      <td>2.431709</td>\n",
       "      <td>3.291678</td>\n",
       "    </tr>\n",
       "    <tr>\n",
       "      <th>SAP30L</th>\n",
       "      <td>0.000000</td>\n",
       "      <td>3.478901</td>\n",
       "      <td>3.328089</td>\n",
       "      <td>3.328089</td>\n",
       "      <td>3.478901</td>\n",
       "    </tr>\n",
       "    <tr>\n",
       "      <th>SAP30BP</th>\n",
       "      <td>1.455086</td>\n",
       "      <td>5.920918</td>\n",
       "      <td>6.610627</td>\n",
       "      <td>5.155542</td>\n",
       "      <td>4.465833</td>\n",
       "    </tr>\n",
       "  </tbody>\n",
       "</table>\n",
       "</div>"
      ],
      "text/plain": [
       "                 a          y          t         ta        ya\n",
       "SAP30L   14.409211   7.804880   1.896159 -12.513052 -6.604331\n",
       "SAP30BP   9.060383   0.193185   0.000000  -9.060383 -8.867199\n",
       "SAP30BP   8.059345   0.378748   0.849036  -7.210309 -7.680597\n",
       "SAP30BP  11.421996   8.412934   6.780633  -4.641363 -3.009062\n",
       "SAP30BP   4.503870   0.453924   0.531557  -3.972313 -4.049946\n",
       "SAP30BP  15.408865  17.511408  11.466237  -3.942628  2.102543\n",
       "SAP30L    5.046981   2.977593   1.288732  -3.758249 -2.069388\n",
       "SAP30BP   9.057478   4.740166   5.623798  -3.433681 -4.317313\n",
       "SAP30L    0.885796   0.589325   0.000000  -0.885796 -0.296471\n",
       "SAP30BP   7.955739   9.503253   7.747586  -0.208153  1.547514\n",
       "SAP30BP   1.947444   2.042506   1.757634  -0.189810  0.095062\n",
       "SAP30     0.431238   0.599601   0.268244  -0.162995  0.168363\n",
       "SAP30BP   0.447218   0.471069   0.371094  -0.076124  0.023851\n",
       "SAP30BP   0.000000   0.000000   0.000000   0.000000  0.000000\n",
       "SAP30L    0.000000   0.000000   0.094423   0.094423  0.000000\n",
       "SAP30L    0.999268   1.930983   1.135242   0.135975  0.931715\n",
       "SAP30BP   5.020371   7.616151   5.204439   0.184068  2.595780\n",
       "SAP30BP   0.000000   0.276588   0.270761   0.270761  0.276588\n",
       "SAP30BP   0.747577   0.925489   1.043406   0.295829  0.177913\n",
       "SAP30BP   0.802536   2.833835   1.110151   0.307616  2.031299\n",
       "SAP30BP   0.726734   1.548239   1.055703   0.328969  0.821505\n",
       "SAP30BP   0.132906   0.515257   0.519464   0.386558  0.382351\n",
       "SAP30BP   2.656393   2.712946   3.160707   0.504314  0.056553\n",
       "SAP30L    0.293510   1.022227   0.879853   0.586343  0.728717\n",
       "SAP30BP   0.968244   2.184869   1.725959   0.757715  1.216625\n",
       "SAP30BP   0.636896   1.127517   1.577239   0.940343  0.490621\n",
       "SAP30L    0.000000   2.055768   0.941589   0.941589  2.055768\n",
       "SAP30BP   0.000000   6.356507   0.988557   0.988557  6.356507\n",
       "SAP30BP   0.786887   1.364301   1.808229   1.021342  0.577414\n",
       "SAP30BP   0.372118   2.088797   1.621844   1.249726  1.716679\n",
       "SAP30BP   0.243572   1.871059   1.692020   1.448448  1.627487\n",
       "SAP30BP   1.325978   4.617656   3.757687   2.431709  3.291678\n",
       "SAP30L    0.000000   3.478901   3.328089   3.328089  3.478901\n",
       "SAP30BP   1.455086   5.920918   6.610627   5.155542  4.465833"
      ]
     },
     "execution_count": 35,
     "metadata": {},
     "output_type": "execute_result"
    }
   ],
   "source": [
    "dg[dg.index.str.startswith('SAP30')][['a','y','t','ta','ya']].sort_values('ta')"
   ]
  },
  {
   "cell_type": "code",
   "execution_count": 349,
   "metadata": {},
   "outputs": [],
   "source": [
    "rp=dg[dg['Gene name'].str.startswith('RPL') | dg['Gene name'].str.startswith('RPS')]"
   ]
  },
  {
   "cell_type": "code",
   "execution_count": 386,
   "metadata": {},
   "outputs": [
    {
     "data": {
      "text/plain": [
       "<AxesSubplot:xlabel='ta', ylabel='ya'>"
      ]
     },
     "execution_count": 386,
     "metadata": {},
     "output_type": "execute_result"
    },
    {
     "data": {
      "image/png": "[encoded data removed]",
      "text/plain": [
       "<Figure size 504x504 with 1 Axes>"
      ]
     },
     "metadata": {
      "needs_background": "light"
     },
     "output_type": "display_data"
    }
   ],
   "source": [
    "f,ax=f, ax = plt.subplots(figsize=(7, 7))\n",
    "ax.set(xscale=\"log\", yscale=\"log\")\n",
    "sns.scatterplot(data=rp[['ta','ya']]+.1,x='ta',y='ya',ax=ax)"
   ]
  },
  {
   "cell_type": "code",
   "execution_count": 387,
   "metadata": {},
   "outputs": [],
   "source": [
    "rna=dg[dg['Gene name'].str.startswith('RNA') ]"
   ]
  },
  {
   "cell_type": "code",
   "execution_count": 389,
   "metadata": {},
   "outputs": [
    {
     "data": {
      "text/plain": [
       "<AxesSubplot:xlabel='ta', ylabel='ya'>"
      ]
     },
     "execution_count": 389,
     "metadata": {},
     "output_type": "execute_result"
    },
    {
     "data": {
      "image/png": "[encoded data removed]",
      "text/plain": [
       "<Figure size 504x504 with 1 Axes>"
      ]
     },
     "metadata": {
      "needs_background": "light"
     },
     "output_type": "display_data"
    }
   ],
   "source": [
    "f,ax=f, ax = plt.subplots(figsize=(7, 7))\n",
    "ax.set(xscale=\"log\", yscale=\"log\")\n",
    "sns.scatterplot(data=rna[['ta','ya']]+.1,x='ta',y='ya',ax=ax)"
   ]
  },
  {
   "cell_type": "code",
   "execution_count": null,
   "metadata": {},
   "outputs": [],
   "source": []
  }
 ],
 "metadata": {
  "kernelspec": {
   "display_name": "Python 3",
   "language": "python",
   "name": "python3"
  },
  "language_info": {
   "codemirror_mode": {
    "name": "ipython",
    "version": 3
   },
   "file_extension": ".py",
   "mimetype": "text/x-python",
   "name": "python",
   "nbconvert_exporter": "python",
   "pygments_lexer": "ipython3",
   "version": "3.7.4"
  }
 },
 "nbformat": 4,
 "nbformat_minor": 4
}
